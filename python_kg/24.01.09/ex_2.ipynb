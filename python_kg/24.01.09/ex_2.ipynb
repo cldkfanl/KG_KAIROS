{
 "cells": [
  {
   "cell_type": "code",
   "execution_count": 2,
   "metadata": {},
   "outputs": [
    {
     "name": "stdout",
     "output_type": "stream",
     "text": [
      "[1, 2, 3, 4, 5]\n",
      "[1 2 3 4 5]\n",
      "[1 3 5 7]\n",
      "[[1 2 3]\n",
      " [4 5 6]]\n"
     ]
    }
   ],
   "source": [
    "import numpy as np\n",
    "\n",
    "a = [1,2,3,4,5]\n",
    "\n",
    "b = np.array(a)\n",
    "c = np.array([1,3,5,7])\n",
    "d = np.array([[1,2,3],[4,5,6]])\n",
    "\n",
    "print(a)\n",
    "print(b)\n",
    "print(c)\n",
    "print(d)\n"
   ]
  },
  {
   "cell_type": "code",
   "execution_count": 3,
   "metadata": {},
   "outputs": [
    {
     "name": "stdout",
     "output_type": "stream",
     "text": [
      "[99, 2, 3, 4, 5] [99, 2, 3, 4, 5] [1, 2, 3, 4, 5]\n"
     ]
    }
   ],
   "source": [
    "import numpy as np\n",
    "\n",
    "a = [1,2,3,4,5]\n",
    "b = a\n",
    "c = a.copy()\n",
    "\n",
    "b[0] = 99\n",
    "\n",
    "print(a,b,c)"
   ]
  },
  {
   "cell_type": "code",
   "execution_count": 11,
   "metadata": {},
   "outputs": [
    {
     "name": "stdout",
     "output_type": "stream",
     "text": [
      "3\n",
      "5\n",
      "[2 3]\n",
      "[1 2 3]\n",
      "[[1 2 3]\n",
      " [4 5 6]]\n",
      "[1 2 3]\n",
      "(24, 12, 4)\n",
      "(32, 16, 8, 4)\n"
     ]
    }
   ],
   "source": [
    "import numpy as np\n",
    "a = np.array([1,2,3,4,5])\n",
    "b = np.array([1,3,5])\n",
    "c = np.array([[1,2,3],[4,5,6]])\n",
    "d = np.array([[[1,2,3],[4,5,6]],[[7,8,9],[10,11,12]]])\n",
    "e = np.array([[[[1,2],[3,4]],[[5,6],[7,8]]],[[[9,10],[11,12]],[[13,14],[15,16]]]])\n",
    "print(a[2])\n",
    "print(b[-1])\n",
    "print(a[1:3])\n",
    "print(c[0])\n",
    "print(d[0])\n",
    "print(d[0][0])\n",
    "print(d.strides)\n",
    "print(e.strides)"
   ]
  },
  {
   "cell_type": "code",
   "execution_count": 13,
   "metadata": {},
   "outputs": [
    {
     "name": "stdout",
     "output_type": "stream",
     "text": [
      "[[1 2 3 4]\n",
      " [5 6 7 8]]\n",
      "type <class 'numpy.ndarray'>\n",
      "dtype int64\n",
      "ndim 2\n",
      "shape (2, 4)\n",
      "size 8\n",
      "itemsize 8\n",
      "nbytes 64\n",
      "data <memory at 0x000002099E12BD30>\n",
      "메모리주소 2240329310224\n"
     ]
    }
   ],
   "source": [
    "import numpy as np\n",
    "n_arr = np.array([[1,2,3,4],[5,6,7,8]],dtype='int64')\n",
    "\n",
    "print(n_arr)\n",
    "print(\"type\",type(n_arr))\n",
    "print(\"dtype\",n_arr.dtype)\n",
    "print(\"ndim\",n_arr.ndim)\n",
    "print(\"shape\",n_arr.shape)\n",
    "print(\"size\",n_arr.size)\n",
    "print(\"itemsize\",n_arr.itemsize)\n",
    "print(\"nbytes\",n_arr.nbytes)\n",
    "print(\"data\",n_arr.data)\n",
    "\n",
    "print(\"메모리주소\",id(n_arr))"
   ]
  },
  {
   "cell_type": "code",
   "execution_count": 26,
   "metadata": {},
   "outputs": [
    {
     "name": "stdout",
     "output_type": "stream",
     "text": [
      "[[ 4  4  4]\n",
      " [10 10 10]]\n",
      "[[3 4 5]\n",
      " [6 7 8]]\n",
      "[[ 2  4  6]\n",
      " [ 8 10 12]]\n",
      "[[3 4 5]\n",
      " [6 7 8]]\n",
      "---------------\n",
      "[[ 4  8 12]\n",
      " [ 7 11 15]]\n",
      "[[ 3 12 27]\n",
      " [12 30 54]]\n"
     ]
    }
   ],
   "source": [
    "import numpy as np\n",
    "\n",
    "a = np.array([1,2,3,4,5])\n",
    "b = np.array([[1,2,3],[4,5,6]])\n",
    "c = np.array([[3,2,1],[6,5,4]])\n",
    "print(b + c)\n",
    "print(b + 2)\n",
    "print(b * 2)\n",
    "print(b + [2,2,2])\n",
    "\n",
    "print(\"---------------\")\n",
    "d = np.array([[1,2,3],[4,5,6]])\n",
    "\n",
    "print(d + [3,6,9])\n",
    "\n",
    "d = np.array([[1,2,3],[4,5,6]])\n",
    "\n",
    "print(d * [3,6,9])"
   ]
  },
  {
   "cell_type": "code",
   "execution_count": 28,
   "metadata": {},
   "outputs": [
    {
     "name": "stdout",
     "output_type": "stream",
     "text": [
      "[1. 2. 3.]\n",
      "[1 2 3]\n",
      "[ True False  True False]\n",
      "float64\n",
      "int32\n",
      "bool\n"
     ]
    }
   ],
   "source": [
    "import numpy as np\n",
    "\n",
    "a = np.array([1,2,3], dtype='float')\n",
    "b = np.array([1,2,3], dtype='int')\n",
    "c = np.array([1,0,1,0], dtype='bool')\n",
    "\n",
    "print(a)\n",
    "print(b)\n",
    "print(c)\n",
    "print(a.dtype)\n",
    "print(b.dtype)\n",
    "print(c.dtype)"
   ]
  },
  {
   "cell_type": "code",
   "execution_count": 29,
   "metadata": {},
   "outputs": [
    {
     "name": "stdout",
     "output_type": "stream",
     "text": [
      "a + b =  [ 6  8 10 12]\n",
      "a - b =  [ 6  8 10 12]\n",
      "a - b =  [-4 -4 -4 -4]\n",
      "a - b =  [-4 -4 -4 -4]\n",
      "a * b =  [ 5 12 21 32]\n",
      "a * b =  [ 5 12 21 32]\n",
      "a / b =  [0.2        0.33333333 0.42857143 0.5       ]\n",
      "a / b =  [0.2        0.33333333 0.42857143 0.5       ]\n",
      "a // b =  [0 0 0 0]\n",
      "a // b =  [0 0 0 0]\n"
     ]
    }
   ],
   "source": [
    "a = np.array([1,2,3,4])\n",
    "b = np.array([5,6,7,8])\n",
    "\n",
    "print('a + b = ',a + b)\n",
    "print('a - b = ',np.add(a,b))\n",
    "\n",
    "print('a - b = ',a - b)\n",
    "print('a - b = ',np.subtract(a,b))\n",
    "\n",
    "print('a * b = ',a * b)\n",
    "print('a * b = ',np.multiply(a,b))\n",
    "\n",
    "print('a / b = ',a / b)\n",
    "print('a / b = ',np.divide(a,b))\n",
    "\n",
    "print('a // b = ',a // b)\n",
    "print('a // b = ',np.floor_divide(a,b))"
   ]
  },
  {
   "cell_type": "code",
   "execution_count": null,
   "metadata": {},
   "outputs": [],
   "source": [
    "a = np.array([1,2,3,4])\n",
    "b = np.array([5,6,7])\n",
    "\n",
    "print('a + b = ' ,a + b)\n",
    "print('a + b = ' ,np.add(a,b))      #수가 맞지 않아 계산 불가능"
   ]
  },
  {
   "cell_type": "code",
   "execution_count": 31,
   "metadata": {},
   "outputs": [
    {
     "name": "stdout",
     "output_type": "stream",
     "text": [
      "a1 = [ 0  1  2  3  4  5  6  7  8  9 10 11]\n",
      "a2 = [[ 0  1  2  3]\n",
      " [ 4  5  6  7]\n",
      " [ 8  9 10 11]]\n",
      "a3 = [[ 0  1]\n",
      " [ 2  3]\n",
      " [ 4  5]\n",
      " [ 6  7]\n",
      " [ 8  9]\n",
      " [10 11]]\n",
      "a4 = [[[ 0.  1.  2.]\n",
      "  [ 3.  4.  5.]\n",
      "  [ 6.  7.  8.]\n",
      "  [ 9. 10. 11.]]\n",
      "\n",
      " [[12. 13. 14.]\n",
      "  [15. 16. 17.]\n",
      "  [18. 19. 20.]\n",
      "  [21. 22. 23.]]\n",
      "\n",
      " [[24. 25. 26.]\n",
      "  [27. 28. 29.]\n",
      "  [30. 31. 32.]\n",
      "  [33. 34. 35.]]]\n"
     ]
    }
   ],
   "source": [
    "a1 = np.arange(12)\n",
    "\n",
    "print('a1 =',a1)\n",
    "a2 = a1.reshape(3,4)\n",
    "print('a2 =',a2)\n",
    "a3 = a1.reshape(6,-1)\n",
    "print('a3 =',a3)\n",
    "a4 = np.arange(36, dtype = float).reshape(3,4,3)\n",
    "print('a4 =',a4)"
   ]
  },
  {
   "cell_type": "code",
   "execution_count": 33,
   "metadata": {},
   "outputs": [
    {
     "name": "stdout",
     "output_type": "stream",
     "text": [
      "[[ 5 12]\n",
      " [21 32]]\n",
      "[[19 22]\n",
      " [43 50]]\n"
     ]
    }
   ],
   "source": [
    "a1 = np.array([[1,2],[3,4]])\n",
    "a2 = np.array([[5,6],[7,8]])\n",
    "\n",
    "print(np.multiply(a1,a2))\n",
    "\n",
    "print(np.matmul(a1,a2))"
   ]
  },
  {
   "cell_type": "code",
   "execution_count": 34,
   "metadata": {},
   "outputs": [
    {
     "name": "stdout",
     "output_type": "stream",
     "text": [
      "[ 0  1  2  3  4  5  6  7  8  9 10 11]\n",
      "[[ 0  1  2  3]\n",
      " [ 4  5  6  7]\n",
      " [ 8  9 10 11]]\n",
      "[11  1  2  3  4  5  6  7  8  9 10 11]\n",
      "[[11  1  2  3]\n",
      " [ 4  5  6  7]\n",
      " [ 8  9 10 11]]\n"
     ]
    }
   ],
   "source": [
    "a = np.arange(12)\n",
    "b = a.reshape(3,4)\n",
    "print(a)\n",
    "print(b)\n",
    "\n",
    "b[0,0] = 11\n",
    "\n",
    "print(a)\n",
    "print(b)"
   ]
  }
 ],
 "metadata": {
  "kernelspec": {
   "display_name": "Python 3",
   "language": "python",
   "name": "python3"
  },
  "language_info": {
   "codemirror_mode": {
    "name": "ipython",
    "version": 3
   },
   "file_extension": ".py",
   "mimetype": "text/x-python",
   "name": "python",
   "nbconvert_exporter": "python",
   "pygments_lexer": "ipython3",
   "version": "3.12.1"
  }
 },
 "nbformat": 4,
 "nbformat_minor": 2
}
