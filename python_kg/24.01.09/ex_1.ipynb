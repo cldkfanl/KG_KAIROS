{
 "cells": [
  {
   "cell_type": "code",
   "execution_count": 2,
   "metadata": {},
   "outputs": [
    {
     "name": "stdout",
     "output_type": "stream",
     "text": [
      "['90', '30', '65', '70', '55']\n"
     ]
    }
   ],
   "source": [
    "f = open('31_score_data.txt', 'r')\n",
    "score = []\n",
    "\n",
    "score = f.read().split()\n",
    "print(score)\n",
    "f.close()"
   ]
  },
  {
   "cell_type": "code",
   "execution_count": 3,
   "metadata": {},
   "outputs": [
    {
     "name": "stdout",
     "output_type": "stream",
     "text": [
      "['90', '30', '65', '70', '55']\n"
     ]
    }
   ],
   "source": [
    "f = open('31_score_data1.txt', 'r')\n",
    "score = []\n",
    "\n",
    "score = f.read().split()\n",
    "print(score)\n",
    "f.close()"
   ]
  },
  {
   "cell_type": "code",
   "execution_count": 6,
   "metadata": {},
   "outputs": [
    {
     "data": {
      "text/plain": [
       "36"
      ]
     },
     "execution_count": 6,
     "metadata": {},
     "output_type": "execute_result"
    }
   ],
   "source": [
    "f = open('매수종목.txt' , mode = \"w\" , encoding = \"utf-8\")\n",
    "f.write(\"005930 삼성전자\\n005380 현대차\\n035420 Naver\\n\")"
   ]
  },
  {
   "cell_type": "code",
   "execution_count": 8,
   "metadata": {},
   "outputs": [
    {
     "name": "stdout",
     "output_type": "stream",
     "text": [
      "{'005930': '삼성전자', '005380': '현대차', '035420': 'Naver'}\n"
     ]
    }
   ],
   "source": [
    "f = open('매수종목.txt' , encoding = \"utf-8\")\n",
    "lines = f.readlines()\n",
    "\n",
    "data = {}\n",
    "for line in lines :\n",
    "    line = line.strip()\n",
    "    k , v = line.split()\n",
    "    data[k] = v\n",
    "\n",
    "print(data)\n",
    "f.close()"
   ]
  },
  {
   "cell_type": "code",
   "execution_count": null,
   "metadata": {},
   "outputs": [],
   "source": []
  }
 ],
 "metadata": {
  "kernelspec": {
   "display_name": "Python 3",
   "language": "python",
   "name": "python3"
  },
  "language_info": {
   "codemirror_mode": {
    "name": "ipython",
    "version": 3
   },
   "file_extension": ".py",
   "mimetype": "text/x-python",
   "name": "python",
   "nbconvert_exporter": "python",
   "pygments_lexer": "ipython3",
   "version": "3.12.1"
  }
 },
 "nbformat": 4,
 "nbformat_minor": 2
}
