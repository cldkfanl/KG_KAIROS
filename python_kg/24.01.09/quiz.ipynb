{
 "cells": [
  {
   "cell_type": "code",
   "execution_count": 8,
   "metadata": {},
   "outputs": [
    {
     "name": "stdout",
     "output_type": "stream",
     "text": [
      "[[ 1  2  3  4  5  6]\n",
      " [ 7  8  9 10 11 12]]\n",
      "[[ 1  2  3  4  5  6  7  8  9 10]\n",
      " [11 12 13 14 15 16 17 18 19 20]\n",
      " [21 22 23 24 25 26 27 28 29 30]]\n",
      "[[ 1  2  3  4  5]\n",
      " [ 6  7  8  9 10]\n",
      " [11 12 13 14 15]\n",
      " [16 17 18 19 20]\n",
      " [21 22 23 24 25]\n",
      " [26 27 28 29 30]]\n",
      "[[ 1  6 11 16 21 26]\n",
      " [ 2  7 12 17 22 27]\n",
      " [ 3  8 13 18 23 28]\n",
      " [ 4  9 14 19 24 29]\n",
      " [ 5 10 15 20 25 30]]\n"
     ]
    }
   ],
   "source": [
    "import numpy as np\n",
    "\n",
    "a1 = np.arange(1,13)        # arange\n",
    "a2 = a1.reshape(2,-1)\n",
    "print(a2)\n",
    "\n",
    "a3 = np.arange(1,31)\n",
    "a4 = a3.reshape(3,-1)\n",
    "print(a4)\n",
    "\n",
    "a5 = a4.reshape(6,-1)\n",
    "print(a5)\n",
    "\n",
    "a6 = a5.transpose()         #전치행렬\n",
    "print(a6)"
   ]
  },
  {
   "cell_type": "code",
   "execution_count": 13,
   "metadata": {},
   "outputs": [
    {
     "name": "stdout",
     "output_type": "stream",
     "text": [
      "[False  True  True False]\n",
      "[ True False False False]\n"
     ]
    }
   ],
   "source": [
    "a1 = np.array([1,2,3,4])            #비교\n",
    "a2 = np.array([4,2,3,1])\n",
    "\n",
    "print(a1 ==a2)\n",
    "print(a1 < a2)"
   ]
  },
  {
   "cell_type": "code",
   "execution_count": 15,
   "metadata": {},
   "outputs": [
    {
     "name": "stdout",
     "output_type": "stream",
     "text": [
      "[5 1 3 2 5 1 6 7]\n",
      "[1 1 2 3 5 5 6 7]\n",
      "[5 1 3 2 5 1 6 7]\n",
      "[1 1 2 3 5 5 6 7]\n",
      "[7 6 5 5 3 2 1 1]\n"
     ]
    }
   ],
   "source": [
    "a = np.array([5,1,3,2,5,1,6,7])\n",
    "\n",
    "print(a)\n",
    "\n",
    "print(np.sort(a))       #정렬\n",
    "print(a)\n",
    "\n",
    "a.sort()                #np 사용 안하고 정렬\n",
    "\n",
    "print(a)\n",
    "\n",
    "print(np.sort(a)[::-1])       #역순위로 정렬"
   ]
  },
  {
   "cell_type": "code",
   "execution_count": 37,
   "metadata": {},
   "outputs": [
    {
     "name": "stdout",
     "output_type": "stream",
     "text": [
      "[ 1  5  9 13]\n",
      "[ 9 10 11]\n",
      "[[0 1]\n",
      " [4 5]]\n",
      "[[ 5  6]\n",
      " [ 9 10]]\n"
     ]
    }
   ],
   "source": [
    "a = np.arange(16).reshape(4,4)\n",
    "print(a[:4,1])          #배열 자르기\n",
    "\n",
    "print(a[2,1:4])\n",
    "\n",
    "print(a[:2,:2])\n",
    "\n",
    "print(a[1:3,1:3])"
   ]
  },
  {
   "cell_type": "code",
   "execution_count": null,
   "metadata": {},
   "outputs": [],
   "source": []
  },
  {
   "cell_type": "code",
   "execution_count": null,
   "metadata": {},
   "outputs": [],
   "source": []
  }
 ],
 "metadata": {
  "kernelspec": {
   "display_name": "Python 3",
   "language": "python",
   "name": "python3"
  },
  "language_info": {
   "codemirror_mode": {
    "name": "ipython",
    "version": 3
   },
   "file_extension": ".py",
   "mimetype": "text/x-python",
   "name": "python",
   "nbconvert_exporter": "python",
   "pygments_lexer": "ipython3",
   "version": "3.12.1"
  }
 },
 "nbformat": 4,
 "nbformat_minor": 2
}
