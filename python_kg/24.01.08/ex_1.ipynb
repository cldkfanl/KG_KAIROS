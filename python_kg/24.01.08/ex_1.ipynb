{
 "cells": [
  {
   "cell_type": "code",
   "execution_count": 1,
   "metadata": {},
   "outputs": [
    {
     "name": "stdout",
     "output_type": "stream",
     "text": [
      "hello python\n"
     ]
    }
   ],
   "source": [
    "print('hello python')"
   ]
  },
  {
   "cell_type": "code",
   "execution_count": null,
   "metadata": {},
   "outputs": [],
   "source": [
    "import math as m    #m등 본인이 사용하기 편한 별칭 정해서 쓰기\n",
    "num = m.pow(2, 3)\n",
    "num2 = m.sqrt(9)\n",
    "print(num + num2)"
   ]
  },
  {
   "cell_type": "code",
   "execution_count": null,
   "metadata": {},
   "outputs": [],
   "source": [
    "from math import *  #같은 의미, math함수에서 모든걸 가져와서 사용하겠다.\n",
    "from math import pow    #특정 함수만 가져와서 사용하겠다."
   ]
  },
  {
   "cell_type": "code",
   "execution_count": 2,
   "metadata": {},
   "outputs": [
    {
     "name": "stdout",
     "output_type": "stream",
     "text": [
      "0.18385798731225744\n",
      "0.7813720559163096\n",
      "0.8188812046665127\n",
      "0.14329799330198068\n",
      "0.772398922516399\n",
      "2\n",
      "5\n",
      "4\n",
      "3\n",
      "5\n",
      "3\n",
      "8\n",
      "2\n",
      "4\n",
      "9\n"
     ]
    }
   ],
   "source": [
    "import random as r\n",
    "for I in range(5) :\n",
    "    print(r.random())           #랜덤 실수\n",
    "for I in range(5) :\n",
    "    print(r.randint(1,10))      #랜덤 정수, end 포함\n",
    "for I in range(5) :\n",
    "    print(r.randrange(1,10))    #end 포함하지 않음"
   ]
  },
  {
   "cell_type": "code",
   "execution_count": 9,
   "metadata": {},
   "outputs": [
    {
     "name": "stdout",
     "output_type": "stream",
     "text": [
      "['banana', 'kiwi', 'mango', 'apple', 'cherry']\n",
      "kiwi\n"
     ]
    }
   ],
   "source": [
    "fruits = ['apple', 'banana', 'cherry', 'kiwi', 'mango']\n",
    "r.shuffle(fruits)\n",
    "print(fruits)\n",
    "print(r.choice(fruits))"
   ]
  },
  {
   "cell_type": "code",
   "execution_count": 3,
   "metadata": {},
   "outputs": [
    {
     "name": "stdout",
     "output_type": "stream",
     "text": [
      "10\n",
      "28\n",
      "13\n",
      "10\n",
      "14\n",
      "30\n",
      "이번주 로또 번호는? : [13, 20, 44, 19, 38, 24]\n"
     ]
    }
   ],
   "source": [
    "for I in range(6) :\n",
    "    print(r.randint(1,45))\n",
    "\n",
    "num = list(range(1,46))\n",
    "print(f\"이번주 로또 번호는? : {r.sample(num, 6)}\")"
   ]
  },
  {
   "cell_type": "code",
   "execution_count": 5,
   "metadata": {},
   "outputs": [
    {
     "name": "stdout",
     "output_type": "stream",
     "text": [
      "정답입니다.\n"
     ]
    }
   ],
   "source": [
    "num1 , num2 = r.sample(range(1,101), 2)\n",
    "result = int(input(f\"{num1}과 {num2}의 합을 구해주세요\"))\n",
    "if result == num1 + num2 :\n",
    "    print(\"정답입니다.\")\n",
    "else :\n",
    "    print(\"틀렸습니다.\")"
   ]
  },
  {
   "cell_type": "code",
   "execution_count": 7,
   "metadata": {},
   "outputs": [
    {
     "name": "stdout",
     "output_type": "stream",
     "text": [
      "5\n",
      "False\n",
      "True\n",
      "0 apple\n",
      "1 banana\n",
      "2 cherry\n",
      "3 kiwi\n",
      "4 mango\n",
      "0 apple\n",
      "1 banana\n",
      "2 cherry\n",
      "3 kiwi\n",
      "4 mango\n"
     ]
    }
   ],
   "source": [
    "print(abs(-5))\n",
    "print(all([0,1,0,1]))\n",
    "print(any([0,1,0,1]))\n",
    "\n",
    "fruits = ['apple', 'banana', 'cherry', 'kiwi', 'mango']\n",
    "\n",
    "for i in range(len(fruits)) :\n",
    "    print(i, fruits[i])\n",
    "\n",
    "for i,letter in enumerate(fruits) :     #순서쌍 세트로 넘어감....\n",
    "    print(i, letter)"
   ]
  },
  {
   "cell_type": "code",
   "execution_count": 14,
   "metadata": {},
   "outputs": [
    {
     "name": "stdout",
     "output_type": "stream",
     "text": [
      "3\n",
      "3\n",
      "3\n",
      "26\n",
      "14\n",
      "3\n",
      "2\n",
      "['p', 'y', 't', 'h', 'o', 'n']\n",
      "[1, 2, 3]\n",
      "3\n",
      "y\n",
      "P\n",
      "h\n",
      "a\n",
      "가\n",
      "97\n",
      "44032\n",
      "4\n",
      "8\n"
     ]
    }
   ],
   "source": [
    "tmp = hex(255)      #16진수 변환\n",
    "print(int('3'))\n",
    "print(int(3.4))\n",
    "print(int('11',2))\n",
    "print(int('1a',16))\n",
    "\n",
    "print(len(\"python is good\"))\n",
    "print(len([1,2,3]))\n",
    "print(len((3,'a')))\n",
    "\n",
    "print(list(\"python\"))\n",
    "print(list((1,2,3)))\n",
    "\n",
    "print(max([1,2,3]))\n",
    "print(max(\"python\"))\n",
    "print(min(\"Python\"))\n",
    "print(min(\"python\"))\n",
    "\n",
    "print(chr(97))\n",
    "print(chr(44032))\n",
    "\n",
    "print(ord('a'))\n",
    "print(ord('가'))\n",
    "\n",
    "print(pow(2,2))\n",
    "print(pow(2,3))"
   ]
  },
  {
   "cell_type": "code",
   "execution_count": 9,
   "metadata": {},
   "outputs": [
    {
     "name": "stdout",
     "output_type": "stream",
     "text": [
      "d\n",
      "asdf\n"
     ]
    }
   ],
   "source": [
    "a = input()\n",
    "print(a)\n",
    "\n",
    "b = input(f\"{a} Enter : \")\n",
    "print(b)"
   ]
  },
  {
   "cell_type": "code",
   "execution_count": 16,
   "metadata": {},
   "outputs": [
    {
     "name": "stdout",
     "output_type": "stream",
     "text": [
      "range(0, 5)\n",
      "[0, 1, 2, 3, 4]\n",
      "(0, 1, 2, 3, 4)\n",
      "[1, 2, 3, 4]\n",
      "[1, 3, 5, 7, 9]\n",
      "[0, -2, -4, -6, -8]\n"
     ]
    }
   ],
   "source": [
    "print(range(5))\n",
    "print(list(range(5)))\n",
    "print(tuple(range(5)))         #튜플 , 리스트 차이점 : 튜플은 수정이 불가능, 리스트는 수정 가능\n",
    "print(list(range(1,5)))\n",
    "print(list(range(1,11,2)))\n",
    "print(list(range(0,-10,-2)))"
   ]
  },
  {
   "cell_type": "code",
   "execution_count": 18,
   "metadata": {},
   "outputs": [
    {
     "name": "stdout",
     "output_type": "stream",
     "text": [
      "The answer is 12\n",
      "The answer is 12\n"
     ]
    }
   ],
   "source": [
    "#print(\"The answer is \" + 12)\n",
    "print(\"The answer is \" + str(12))\n",
    "print(\"The answer is\",12)"
   ]
  },
  {
   "cell_type": "code",
   "execution_count": 20,
   "metadata": {},
   "outputs": [
    {
     "name": "stdout",
     "output_type": "stream",
     "text": [
      "[(1, 4), (2, 5), (3, 6)]\n",
      "[(1, 4, 7), (2, 5, 8), (3, 6, 9)]\n",
      "[('a', '1'), ('b', '2'), ('c', '3')]\n",
      "('a', '1') ('b', '2') ('c', '3')\n"
     ]
    },
    {
     "data": {
      "text/plain": [
       "tuple"
      ]
     },
     "execution_count": 20,
     "metadata": {},
     "output_type": "execute_result"
    }
   ],
   "source": [
    "print(list(zip([1,2,3],[4,5,6])))\n",
    "print(list(zip([1,2,3],[4,5,6],[7,8,9])))\n",
    "print(list(zip('abc','123')))\n",
    "a,b,c = zip('abc', '123')\n",
    "print(a,b,c)\n",
    "type(a)"
   ]
  },
  {
   "cell_type": "code",
   "execution_count": 21,
   "metadata": {},
   "outputs": [
    {
     "name": "stdout",
     "output_type": "stream",
     "text": [
      "9\n",
      "223\n"
     ]
    }
   ],
   "source": [
    "def add_num(num1, num2) :\n",
    "    result = num1 + num2\n",
    "    print(result)\n",
    "\n",
    "add_num(4,5)\n",
    "add_num(100, 123)\n",
    "\n",
    "def ret_num(num1, num2) :\n",
    "    return(num1 + num2)\n",
    "\n",
    "ret_num(1000, 123)"
   ]
  },
  {
   "cell_type": "code",
   "execution_count": 6,
   "metadata": {},
   "outputs": [],
   "source": [
    "import turtle\n",
    "t1 = turtle.Turtle()\n",
    "def draw_turtle(len, num) :\n",
    "\n",
    "    for i in range(num) :\n",
    "        t1.forward(len)\n",
    "        t1.right(360/num)\n",
    "\n",
    "\n",
    "draw_turtle(5, 123)\n",
    "turtle.done()"
   ]
  },
  {
   "cell_type": "code",
   "execution_count": null,
   "metadata": {},
   "outputs": [],
   "source": [
    "def double(num) :\n",
    "    return num ** 2\n",
    "\n",
    "print(double(5))\n",
    "\n",
    "def circle_area(r) :\n",
    "    return r * r * 3.14\n"
   ]
  },
  {
   "cell_type": "code",
   "execution_count": 8,
   "metadata": {},
   "outputs": [
    {
     "name": "stdout",
     "output_type": "stream",
     "text": [
      "100\n",
      "[1, 2, 3, 4, 5, 100, 200]\n"
     ]
    }
   ],
   "source": [
    "def mod1(m) :           #call by value\n",
    "    m = m + 1\n",
    "\n",
    "num = 100\n",
    "mod1(num)\n",
    "print(num)\n",
    "\n",
    "def modify(li) :        #call by reference\n",
    "    li += [100, 200]    #파이썬은 전달하는 값에 따라서 밸류 , 레퍼런스가 결정됨\n",
    "\n",
    "list = [1,2,3,4,5]\n",
    "modify(list)\n",
    "print(list)"
   ]
  },
  {
   "cell_type": "code",
   "execution_count": 11,
   "metadata": {},
   "outputs": [
    {
     "name": "stdout",
     "output_type": "stream",
     "text": [
      "사과가 좋아\n",
      "1760187909024\n",
      "1760188506208\n",
      "바나나가 좋아\n",
      "1760188506208\n",
      "바나나가 좋아\n"
     ]
    }
   ],
   "source": [
    "s = \"사과가 좋아\"\n",
    "\n",
    "def sub() :\n",
    "    global s\n",
    "    print(s)\n",
    "    print(id(s))\n",
    "\n",
    "    s = \"바나나가 좋아\"\n",
    "    print(id(s))\n",
    "    print(s)\n",
    "\n",
    "sub()\n",
    "print(id(s))\n",
    "print(s)"
   ]
  },
  {
   "cell_type": "code",
   "execution_count": 12,
   "metadata": {},
   "outputs": [
    {
     "name": "stdout",
     "output_type": "stream",
     "text": [
      "7 3 4 3\n",
      "7 2 3 4\n"
     ]
    }
   ],
   "source": [
    "def sub(x,y) :\n",
    "    global a\n",
    "    a = 7\n",
    "    x,y = y,x\n",
    "    b = 3\n",
    "    print(a,b,x,y)\n",
    "a,b,x,y = 1,2,3,4\n",
    "sub(x,y)\n",
    "print(a,b,x,y)"
   ]
  },
  {
   "cell_type": "code",
   "execution_count": 16,
   "metadata": {},
   "outputs": [
    {
     "name": "stdout",
     "output_type": "stream",
     "text": [
      "1부터 9까지의 합은 45이다.\n"
     ]
    }
   ],
   "source": [
    "def sum(n) :\n",
    "    s = 0\n",
    "    for i in range(n) :\n",
    "        s += i\n",
    "    return i,s\n",
    "\n",
    "a,b = sum(10)\n",
    "print(f\"1부터 {a}까지의 합은 {b}이다.\")"
   ]
  },
  {
   "cell_type": "code",
   "execution_count": 21,
   "metadata": {},
   "outputs": [
    {
     "name": "stdout",
     "output_type": "stream",
     "text": [
      "My name is 조이, I like 그림그리기. \n",
      "My name is 유진, I like 노래부르기. \n"
     ]
    }
   ],
   "source": [
    "class Human :\n",
    "    def __init__(self,name,hobby) :\n",
    "        self.name = name\n",
    "        self.hobby = hobby\n",
    "    def intro(self) :\n",
    "        print(\"My name is %s, I like %s. \" %(self.name, self.hobby))\n",
    "\n",
    "person01 = Human(\"조이\", \"그림그리기\")\n",
    "person02 = Human(\"유진\", \"노래부르기\")\n",
    "person01.intro()\n",
    "person02.intro()\n"
   ]
  },
  {
   "cell_type": "code",
   "execution_count": 22,
   "metadata": {},
   "outputs": [
    {
     "name": "stdout",
     "output_type": "stream",
     "text": [
      "성혁\n"
     ]
    }
   ],
   "source": [
    "class Parent :\n",
    "    def __init__(self, name) :\n",
    "        self.name = name\n",
    "\n",
    "class Child(Parent) :\n",
    "    pass\n",
    "\n",
    "c = Child(\"성혁\")\n",
    "print(c.name)\n"
   ]
  },
  {
   "cell_type": "code",
   "execution_count": 28,
   "metadata": {},
   "outputs": [
    {
     "name": "stdout",
     "output_type": "stream",
     "text": [
      "아반떼는 100의 속도로 달린다.\n",
      "쏘렌토는 100의 속도로 달린다.\n",
      "싼타페는 100의 속도로 달린다.\n"
     ]
    }
   ],
   "source": [
    "class car :\n",
    "    def __init__(self, model, color) :\n",
    "        self.model = model\n",
    "        self.color = color\n",
    "\n",
    "    def speed(self, v) :\n",
    "        self.model\n",
    "        print(f\"{self.model}는 {v}의 속도로 달린다.\")\n",
    "\n",
    "car1 = car(\"아반떼\", \"red\")\n",
    "car1.speed(100)\n",
    "\n",
    "car2 = car(\"쏘렌토\", \"blue\")\n",
    "car2.speed(100)\n",
    "\n",
    "class suv(car) :\n",
    "    def __init__(self,m,c,d):\n",
    "        super().__init__(m,c)\n",
    "        self.door = d\n",
    "\n",
    "car3 = suv(\"싼타페\", \"yellow\", 5)\n",
    "car3.speed(100)\n"
   ]
  },
  {
   "cell_type": "code",
   "execution_count": 29,
   "metadata": {},
   "outputs": [
    {
     "name": "stdout",
     "output_type": "stream",
     "text": [
      "7\n",
      "-1\n",
      "12\n",
      "0.75\n"
     ]
    }
   ],
   "source": [
    "class my_calc : \n",
    "    def add_num(a,b) :\n",
    "        return a+b\n",
    "    def sub_num(a,b) :\n",
    "        return a-b\n",
    "    def mul_num(a,b) :\n",
    "        return a*b\n",
    "    def div_num(a,b) :\n",
    "        return a/b\n",
    "\n",
    "    if __name__ ==\"__main__\" :\n",
    "        print(add_num(3,4))\n",
    "        print(sub_num(3,4))\n",
    "        print(mul_num(3,4))\n",
    "        print(div_num(3,4))"
   ]
  },
  {
   "cell_type": "code",
   "execution_count": 1,
   "metadata": {},
   "outputs": [
    {
     "name": "stdout",
     "output_type": "stream",
     "text": [
      "my_calc\n",
      "test______\n",
      "7\n",
      "-1\n",
      "12\n",
      "0.75\n"
     ]
    }
   ],
   "source": [
    "import my_calc\n",
    "\n",
    "print(my_calc.add_num(3,4))\n",
    "print(my_calc.sub_num(3,4))\n",
    "print(my_calc.mul_num(3,4))\n",
    "print(my_calc.div_num(3,4))"
   ]
  },
  {
   "cell_type": "code",
   "execution_count": 10,
   "metadata": {},
   "outputs": [],
   "source": [
    "from tkinter import *\n",
    "\n",
    "main = Tk()\n",
    "\n",
    "main.title(\"TK\")\n",
    "main.geometry(\"1000x800\")\n",
    "\n",
    "lbl = Label(main)\n",
    "lbl['text'] = \"안녕하세요\"\n",
    "lbl['font'] = \"Arial 20\"\n",
    "lbl.pack()\n",
    "\n",
    "text = \"확인\"\n",
    "ok_button = Button(main)\n",
    "ok_button['text'] = text\n",
    "ok_button['foreground'] = \"Red\"\n",
    "ok_button.pack()\n",
    "\n",
    "cancle_button = Button(main)\n",
    "cancle_button['text'] = \"취소\"\n",
    "cancle_button['foreground'] = \"Blue\"\n",
    "cancle_button.pack()\n",
    "\n",
    "def change_txt() :\n",
    "    lbl.config(text= '안녕못해요.')\n",
    "\n",
    "def clk() :\n",
    "    global text\n",
    "    text += \"!\"\n",
    "    ok_button.config(text = text)\n",
    "\n",
    "img = PhotoImage(file = 'python.png')\n",
    "\n",
    "btn = Button(main, image = img, command=clk)\n",
    "btn.pack()\n",
    "\n",
    "\n",
    "main.mainloop()"
   ]
  }
 ],
 "metadata": {
  "kernelspec": {
   "display_name": "Python 3",
   "language": "python",
   "name": "python3"
  },
  "language_info": {
   "codemirror_mode": {
    "name": "ipython",
    "version": 3
   },
   "file_extension": ".py",
   "mimetype": "text/x-python",
   "name": "python",
   "nbconvert_exporter": "python",
   "pygments_lexer": "ipython3",
   "version": "3.12.1"
  }
 },
 "nbformat": 4,
 "nbformat_minor": 2
}
