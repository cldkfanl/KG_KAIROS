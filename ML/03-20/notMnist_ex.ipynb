{
 "cells": [
  {
   "cell_type": "code",
   "execution_count": 22,
   "metadata": {},
   "outputs": [],
   "source": [
    "import tensorflow as tf\n",
    "import pandas as pd\n",
    "import numpy as np\n",
    "import os\n",
    "import cv2\n",
    "from sklearn.model_selection import train_test_split\n",
    "from PIL import Image"
   ]
  },
  {
   "cell_type": "code",
   "execution_count": 24,
   "metadata": {},
   "outputs": [],
   "source": [
    "dataset_path = 'C:/Users/user/Desktop/kairos_noncode/notMNIST_small/notMNIST_small/'\n",
    "images = []\n",
    "labels = []\n",
    "folders = os.listdir(dataset_path)\n",
    "\n",
    "for folder_name in folders:\n",
    "    folder_path = os.path.join(dataset_path, folder_name)\n",
    "    files = os.listdir(folder_path)\n",
    "    for file_name in files:\n",
    "        file_path = os.path.join(folder_path, file_name)\n",
    "        img = Image.open(file_path)\n",
    "        img = img.resize((28, 28))  # 이미지 크기 조정\n",
    "        img = np.array(img) / 255.0  # 정규화\n",
    "        images.append(img)\n",
    "        labels.append(ord(folder_name) - ord('A'))  # 알파벳을 숫자로 변환\n",
    "\n",
    "images = np.array(images)\n",
    "labels = np.array(labels)\n",
    "\n",
    "# 데이터 분할\n",
    "train_images, test_images, train_labels, test_labels = train_test_split(images, labels, test_size=0.2, random_state=42)"
   ]
  },
  {
   "cell_type": "code",
   "execution_count": 25,
   "metadata": {},
   "outputs": [
    {
     "name": "stdout",
     "output_type": "stream",
     "text": [
      "(14979, 28, 28)\n",
      "(14979,)\n",
      "(3745, 28, 28)\n",
      "(3745,)\n"
     ]
    }
   ],
   "source": [
    "print(train_images.shape)\n",
    "print(train_labels.shape)\n",
    "print(test_images.shape)\n",
    "print(test_labels.shape)\n"
   ]
  },
  {
   "cell_type": "code",
   "execution_count": 26,
   "metadata": {},
   "outputs": [
    {
     "name": "stdout",
     "output_type": "stream",
     "text": [
      "[9 6 9 ... 2 0 8]\n"
     ]
    }
   ],
   "source": [
    "print(train_labels)"
   ]
  },
  {
   "cell_type": "code",
   "execution_count": 27,
   "metadata": {},
   "outputs": [],
   "source": [
    "X = tf.keras.layers.Input(shape = [28, 28, 1])\n",
    "H = tf.keras.layers.Conv2D(6, kernel_size = 5, activation = 'swish')(X)\n",
    "H = tf.keras.layers.MaxPool2D()(H)\n",
    "\n",
    "H = tf.keras.layers.Conv2D(6, kernel_size = 5, activation = 'swish')(H)\n",
    "H = tf.keras.layers.MaxPool2D()(H)\n",
    "\n",
    "H = tf.keras.layers.Flatten()(H)\n",
    "H = tf.keras.layers.Dense(120, activation = 'swish')(H)\n",
    "H = tf.keras.layers.Dense(84, activation = 'swish')(H)\n",
    "Y = tf.keras.layers.Dense(10, activation = 'softmax')(H)\n",
    "model = tf.keras.models.Model(X, Y)\n",
    "model.compile(optimizer='adam', loss = 'categorical_crossentropy', metrics = 'accuracy')"
   ]
  },
  {
   "cell_type": "code",
   "execution_count": 30,
   "metadata": {},
   "outputs": [
    {
     "name": "stdout",
     "output_type": "stream",
     "text": [
      "Epoch 1/100\n",
      "469/469 [==============================] - 2s 4ms/step - loss: 0.1205 - accuracy: 0.9597\n",
      "Epoch 2/100\n",
      "469/469 [==============================] - 2s 4ms/step - loss: 0.1046 - accuracy: 0.9661\n",
      "Epoch 3/100\n",
      "469/469 [==============================] - 2s 4ms/step - loss: 0.0904 - accuracy: 0.9689\n",
      "Epoch 4/100\n",
      "469/469 [==============================] - 2s 4ms/step - loss: 0.0797 - accuracy: 0.9736\n",
      "Epoch 5/100\n",
      "469/469 [==============================] - 2s 4ms/step - loss: 0.0711 - accuracy: 0.9750\n",
      "Epoch 6/100\n",
      "469/469 [==============================] - 2s 4ms/step - loss: 0.0663 - accuracy: 0.9784\n",
      "Epoch 7/100\n",
      "469/469 [==============================] - 2s 4ms/step - loss: 0.0598 - accuracy: 0.9795\n",
      "Epoch 8/100\n",
      "469/469 [==============================] - 2s 4ms/step - loss: 0.0568 - accuracy: 0.9813\n",
      "Epoch 9/100\n",
      "469/469 [==============================] - 2s 4ms/step - loss: 0.0417 - accuracy: 0.9872\n",
      "Epoch 10/100\n",
      "469/469 [==============================] - 2s 4ms/step - loss: 0.0476 - accuracy: 0.9846\n",
      "Epoch 11/100\n",
      "469/469 [==============================] - 2s 4ms/step - loss: 0.0441 - accuracy: 0.9850\n",
      "Epoch 12/100\n",
      "469/469 [==============================] - 2s 4ms/step - loss: 0.0386 - accuracy: 0.9874\n",
      "Epoch 13/100\n",
      "469/469 [==============================] - 2s 4ms/step - loss: 0.0361 - accuracy: 0.9886\n",
      "Epoch 14/100\n",
      "469/469 [==============================] - 2s 4ms/step - loss: 0.0358 - accuracy: 0.9883\n",
      "Epoch 15/100\n",
      "469/469 [==============================] - 2s 4ms/step - loss: 0.0348 - accuracy: 0.9890\n",
      "Epoch 16/100\n",
      "469/469 [==============================] - 2s 4ms/step - loss: 0.0238 - accuracy: 0.9931\n",
      "Epoch 17/100\n",
      "469/469 [==============================] - 2s 4ms/step - loss: 0.0351 - accuracy: 0.9891\n",
      "Epoch 18/100\n",
      "469/469 [==============================] - 2s 4ms/step - loss: 0.0278 - accuracy: 0.9909\n",
      "Epoch 19/100\n",
      "469/469 [==============================] - 2s 4ms/step - loss: 0.0217 - accuracy: 0.9936\n",
      "Epoch 20/100\n",
      "469/469 [==============================] - 2s 4ms/step - loss: 0.0363 - accuracy: 0.9879\n",
      "Epoch 21/100\n",
      "469/469 [==============================] - 2s 4ms/step - loss: 0.0271 - accuracy: 0.9910\n",
      "Epoch 22/100\n",
      "469/469 [==============================] - 2s 4ms/step - loss: 0.0188 - accuracy: 0.9942\n",
      "Epoch 23/100\n",
      "469/469 [==============================] - 2s 4ms/step - loss: 0.0339 - accuracy: 0.9891\n",
      "Epoch 24/100\n",
      "469/469 [==============================] - 2s 5ms/step - loss: 0.0179 - accuracy: 0.9944\n",
      "Epoch 25/100\n",
      "469/469 [==============================] - 2s 5ms/step - loss: 0.0193 - accuracy: 0.9938\n",
      "Epoch 26/100\n",
      "469/469 [==============================] - 2s 4ms/step - loss: 0.0268 - accuracy: 0.9920\n",
      "Epoch 27/100\n",
      "469/469 [==============================] - 2s 4ms/step - loss: 0.0207 - accuracy: 0.9936\n",
      "Epoch 28/100\n",
      "469/469 [==============================] - 4s 8ms/step - loss: 0.0143 - accuracy: 0.9953\n",
      "Epoch 29/100\n",
      "469/469 [==============================] - 4s 9ms/step - loss: 0.0234 - accuracy: 0.9921\n",
      "Epoch 30/100\n",
      "469/469 [==============================] - 3s 7ms/step - loss: 0.0143 - accuracy: 0.9951\n",
      "Epoch 31/100\n",
      "469/469 [==============================] - 4s 9ms/step - loss: 0.0195 - accuracy: 0.9935\n",
      "Epoch 32/100\n",
      "469/469 [==============================] - 3s 7ms/step - loss: 0.0255 - accuracy: 0.9912\n",
      "Epoch 33/100\n",
      "469/469 [==============================] - 3s 7ms/step - loss: 0.0199 - accuracy: 0.9943\n",
      "Epoch 34/100\n",
      "469/469 [==============================] - 4s 8ms/step - loss: 0.0147 - accuracy: 0.9950\n",
      "Epoch 35/100\n",
      "469/469 [==============================] - 3s 7ms/step - loss: 0.0127 - accuracy: 0.9963\n",
      "Epoch 36/100\n",
      "469/469 [==============================] - 3s 7ms/step - loss: 0.0200 - accuracy: 0.9942\n",
      "Epoch 37/100\n",
      "469/469 [==============================] - 3s 7ms/step - loss: 0.0145 - accuracy: 0.9957\n",
      "Epoch 38/100\n",
      "469/469 [==============================] - 3s 7ms/step - loss: 0.0235 - accuracy: 0.9925\n",
      "Epoch 39/100\n",
      "469/469 [==============================] - 3s 7ms/step - loss: 0.0184 - accuracy: 0.9945\n",
      "Epoch 40/100\n",
      "469/469 [==============================] - 4s 8ms/step - loss: 0.0122 - accuracy: 0.9965\n",
      "Epoch 41/100\n",
      "469/469 [==============================] - 4s 8ms/step - loss: 0.0174 - accuracy: 0.9951\n",
      "Epoch 42/100\n",
      "469/469 [==============================] - 4s 8ms/step - loss: 0.0140 - accuracy: 0.9959\n",
      "Epoch 43/100\n",
      "469/469 [==============================] - 3s 7ms/step - loss: 0.0064 - accuracy: 0.9981\n",
      "Epoch 44/100\n",
      "469/469 [==============================] - 4s 8ms/step - loss: 0.0214 - accuracy: 0.9942\n",
      "Epoch 45/100\n",
      "469/469 [==============================] - 3s 7ms/step - loss: 0.0250 - accuracy: 0.9923\n",
      "Epoch 46/100\n",
      "469/469 [==============================] - 4s 8ms/step - loss: 0.0145 - accuracy: 0.9956\n",
      "Epoch 47/100\n",
      "469/469 [==============================] - 3s 7ms/step - loss: 0.0066 - accuracy: 0.9981\n",
      "Epoch 48/100\n",
      "469/469 [==============================] - 4s 8ms/step - loss: 0.0078 - accuracy: 0.9975\n",
      "Epoch 49/100\n",
      "469/469 [==============================] - 3s 7ms/step - loss: 0.0248 - accuracy: 0.9924\n",
      "Epoch 50/100\n",
      "469/469 [==============================] - 4s 8ms/step - loss: 0.0213 - accuracy: 0.9932\n",
      "Epoch 51/100\n",
      "469/469 [==============================] - 4s 8ms/step - loss: 0.0068 - accuracy: 0.9980\n",
      "Epoch 52/100\n",
      "469/469 [==============================] - 3s 7ms/step - loss: 0.0049 - accuracy: 0.9985\n",
      "Epoch 53/100\n",
      "469/469 [==============================] - 3s 7ms/step - loss: 0.0090 - accuracy: 0.9974\n",
      "Epoch 54/100\n",
      "469/469 [==============================] - 3s 7ms/step - loss: 0.0309 - accuracy: 0.9907\n",
      "Epoch 55/100\n",
      "469/469 [==============================] - 3s 7ms/step - loss: 0.0124 - accuracy: 0.9961\n",
      "Epoch 56/100\n",
      "469/469 [==============================] - 4s 8ms/step - loss: 0.0080 - accuracy: 0.9972\n",
      "Epoch 57/100\n",
      "469/469 [==============================] - 4s 8ms/step - loss: 0.0133 - accuracy: 0.9961\n",
      "Epoch 58/100\n",
      "469/469 [==============================] - 4s 8ms/step - loss: 0.0113 - accuracy: 0.9970\n",
      "Epoch 59/100\n",
      "469/469 [==============================] - 2s 5ms/step - loss: 0.0106 - accuracy: 0.9975\n",
      "Epoch 60/100\n",
      "469/469 [==============================] - 2s 5ms/step - loss: 0.0119 - accuracy: 0.9969\n",
      "Epoch 61/100\n",
      "469/469 [==============================] - 2s 5ms/step - loss: 0.0121 - accuracy: 0.9961\n",
      "Epoch 62/100\n",
      "469/469 [==============================] - 2s 5ms/step - loss: 0.0137 - accuracy: 0.9949\n",
      "Epoch 63/100\n",
      "469/469 [==============================] - 2s 5ms/step - loss: 0.0133 - accuracy: 0.9949\n",
      "Epoch 64/100\n",
      "469/469 [==============================] - 2s 5ms/step - loss: 0.0123 - accuracy: 0.9955\n",
      "Epoch 65/100\n",
      "469/469 [==============================] - 2s 5ms/step - loss: 0.0054 - accuracy: 0.9980\n",
      "Epoch 66/100\n",
      "469/469 [==============================] - 2s 5ms/step - loss: 0.0101 - accuracy: 0.9971\n",
      "Epoch 67/100\n",
      "469/469 [==============================] - 3s 6ms/step - loss: 0.0100 - accuracy: 0.9969\n",
      "Epoch 68/100\n",
      "469/469 [==============================] - 3s 6ms/step - loss: 0.0099 - accuracy: 0.9965\n",
      "Epoch 69/100\n",
      "469/469 [==============================] - 4s 8ms/step - loss: 0.0319 - accuracy: 0.9901\n",
      "Epoch 70/100\n",
      "469/469 [==============================] - 4s 8ms/step - loss: 0.0089 - accuracy: 0.9975\n",
      "Epoch 71/100\n",
      "469/469 [==============================] - 4s 8ms/step - loss: 0.0035 - accuracy: 0.9987\n",
      "Epoch 72/100\n",
      "469/469 [==============================] - 4s 8ms/step - loss: 0.0047 - accuracy: 0.9983\n",
      "Epoch 73/100\n",
      "469/469 [==============================] - 4s 8ms/step - loss: 0.0096 - accuracy: 0.9971\n",
      "Epoch 74/100\n",
      "469/469 [==============================] - 3s 7ms/step - loss: 0.0166 - accuracy: 0.9949\n",
      "Epoch 75/100\n",
      "469/469 [==============================] - 3s 7ms/step - loss: 0.0155 - accuracy: 0.9949\n",
      "Epoch 76/100\n",
      "469/469 [==============================] - 3s 7ms/step - loss: 0.0045 - accuracy: 0.9987\n",
      "Epoch 77/100\n",
      "469/469 [==============================] - 3s 7ms/step - loss: 0.0033 - accuracy: 0.9990\n",
      "Epoch 78/100\n",
      "469/469 [==============================] - 3s 7ms/step - loss: 0.0086 - accuracy: 0.9972\n",
      "Epoch 79/100\n",
      "469/469 [==============================] - 3s 6ms/step - loss: 0.0216 - accuracy: 0.9933\n",
      "Epoch 80/100\n",
      "469/469 [==============================] - 3s 5ms/step - loss: 0.0092 - accuracy: 0.9970\n",
      "Epoch 81/100\n",
      "469/469 [==============================] - 3s 6ms/step - loss: 0.0125 - accuracy: 0.9966\n",
      "Epoch 82/100\n",
      "469/469 [==============================] - 2s 5ms/step - loss: 0.0063 - accuracy: 0.9980\n",
      "Epoch 83/100\n",
      "469/469 [==============================] - 3s 7ms/step - loss: 0.0087 - accuracy: 0.9977\n",
      "Epoch 84/100\n",
      "469/469 [==============================] - 3s 7ms/step - loss: 0.0188 - accuracy: 0.9942\n",
      "Epoch 85/100\n",
      "469/469 [==============================] - 2s 4ms/step - loss: 0.0083 - accuracy: 0.9971\n",
      "Epoch 86/100\n",
      "469/469 [==============================] - 2s 4ms/step - loss: 0.0028 - accuracy: 0.9991\n",
      "Epoch 87/100\n",
      "469/469 [==============================] - 2s 4ms/step - loss: 0.0033 - accuracy: 0.9991\n",
      "Epoch 88/100\n",
      "469/469 [==============================] - 2s 4ms/step - loss: 0.0110 - accuracy: 0.9964\n",
      "Epoch 89/100\n",
      "469/469 [==============================] - 2s 4ms/step - loss: 0.0211 - accuracy: 0.9933\n",
      "Epoch 90/100\n",
      "469/469 [==============================] - 2s 4ms/step - loss: 0.0107 - accuracy: 0.9971\n",
      "Epoch 91/100\n",
      "469/469 [==============================] - 2s 4ms/step - loss: 0.0043 - accuracy: 0.9985\n",
      "Epoch 92/100\n",
      "469/469 [==============================] - 2s 4ms/step - loss: 0.0053 - accuracy: 0.9985\n",
      "Epoch 93/100\n",
      "469/469 [==============================] - 2s 4ms/step - loss: 0.0107 - accuracy: 0.9969\n",
      "Epoch 94/100\n",
      "469/469 [==============================] - 2s 4ms/step - loss: 0.0112 - accuracy: 0.9960\n",
      "Epoch 95/100\n",
      "469/469 [==============================] - 2s 4ms/step - loss: 0.0077 - accuracy: 0.9977\n",
      "Epoch 96/100\n",
      "469/469 [==============================] - 2s 4ms/step - loss: 0.0027 - accuracy: 0.9989\n",
      "Epoch 97/100\n",
      "469/469 [==============================] - 2s 4ms/step - loss: 0.0024 - accuracy: 0.9991\n",
      "Epoch 98/100\n",
      "469/469 [==============================] - 2s 4ms/step - loss: 0.0025 - accuracy: 0.9991\n",
      "Epoch 99/100\n",
      "469/469 [==============================] - 2s 4ms/step - loss: 0.0106 - accuracy: 0.9969\n",
      "Epoch 100/100\n",
      "469/469 [==============================] - 2s 4ms/step - loss: 0.0306 - accuracy: 0.9909\n"
     ]
    },
    {
     "data": {
      "text/plain": [
       "<keras.callbacks.History at 0x1a962e1fc10>"
      ]
     },
     "execution_count": 30,
     "metadata": {},
     "output_type": "execute_result"
    }
   ],
   "source": [
    "model.fit(train_images, tf.keras.utils.to_categorical(train_labels), epochs = 100)"
   ]
  },
  {
   "cell_type": "code",
   "execution_count": 33,
   "metadata": {},
   "outputs": [
    {
     "name": "stdout",
     "output_type": "stream",
     "text": [
      "118/118 [==============================] - 0s 3ms/step - loss: 0.6087 - accuracy: 0.9311\n"
     ]
    },
    {
     "data": {
      "text/plain": [
       "[0.6086809635162354, 0.9311081171035767]"
      ]
     },
     "execution_count": 33,
     "metadata": {},
     "output_type": "execute_result"
    }
   ],
   "source": [
    "model.evaluate(test_images, tf.keras.utils.to_categorical(test_labels))"
   ]
  },
  {
   "cell_type": "code",
   "execution_count": null,
   "metadata": {},
   "outputs": [],
   "source": []
  }
 ],
 "metadata": {
  "kernelspec": {
   "display_name": "Python 3",
   "language": "python",
   "name": "python3"
  },
  "language_info": {
   "codemirror_mode": {
    "name": "ipython",
    "version": 3
   },
   "file_extension": ".py",
   "mimetype": "text/x-python",
   "name": "python",
   "nbconvert_exporter": "python",
   "pygments_lexer": "ipython3",
   "version": "3.10.11"
  }
 },
 "nbformat": 4,
 "nbformat_minor": 2
}
