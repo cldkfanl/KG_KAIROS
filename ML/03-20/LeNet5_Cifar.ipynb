{
 "cells": [
  {
   "cell_type": "code",
   "execution_count": 1,
   "metadata": {},
   "outputs": [],
   "source": [
    "import tensorflow as tf\n",
    "import pandas as pd"
   ]
  },
  {
   "cell_type": "code",
   "execution_count": 2,
   "metadata": {},
   "outputs": [
    {
     "name": "stdout",
     "output_type": "stream",
     "text": [
      "(50000, 32, 32, 3) (50000, 10)\n"
     ]
    }
   ],
   "source": [
    "(inVar, tarVar), _ = tf.keras.datasets.cifar10.load_data()\n",
    "tarVar = tf.keras.utils.to_categorical(tarVar, 10)\n",
    "inVar = inVar.astype('float32') / 255.0\n",
    "print(inVar.shape, tarVar.shape)"
   ]
  },
  {
   "cell_type": "code",
   "execution_count": 3,
   "metadata": {},
   "outputs": [],
   "source": [
    "X = tf.keras.layers.Input(shape = [32,32,3])\n",
    "H = tf.keras.layers.Conv2D(6, kernel_size =  5, activation = 'swish')(X)\n",
    "H = tf.keras.layers.MaxPool2D()(H)\n",
    "\n",
    "H = tf.keras.layers.Conv2D(6, kernel_size = 5, activation = 'swish')(H)\n",
    "H = tf.keras.layers.MaxPool2D()(H)\n",
    "\n",
    "H = tf.keras.layers.Flatten()(H)\n",
    "H = tf.keras.layers.Dense(120, activation = 'swish')(H)\n",
    "H = tf.keras.layers.Dense(84, activation = 'swish')(H)\n",
    "Y = tf.keras.layers.Dense(10, activation = 'softmax')(H)\n",
    "model = tf.keras.models.Model(X, Y)\n",
    "model.compile(optimizer='adam', loss = 'categorical_crossentropy', metrics = 'accuracy')"
   ]
  },
  {
   "cell_type": "code",
   "execution_count": 4,
   "metadata": {},
   "outputs": [
    {
     "name": "stdout",
     "output_type": "stream",
     "text": [
      "Model: \"model\"\n",
      "_________________________________________________________________\n",
      " Layer (type)                Output Shape              Param #   \n",
      "=================================================================\n",
      " input_1 (InputLayer)        [(None, 32, 32, 3)]       0         \n",
      "                                                                 \n",
      " conv2d (Conv2D)             (None, 28, 28, 6)         456       \n",
      "                                                                 \n",
      " max_pooling2d (MaxPooling2D  (None, 14, 14, 6)        0         \n",
      " )                                                               \n",
      "                                                                 \n",
      " conv2d_1 (Conv2D)           (None, 10, 10, 6)         906       \n",
      "                                                                 \n",
      " max_pooling2d_1 (MaxPooling  (None, 5, 5, 6)          0         \n",
      " 2D)                                                             \n",
      "                                                                 \n",
      " flatten (Flatten)           (None, 150)               0         \n",
      "                                                                 \n",
      " dense (Dense)               (None, 120)               18120     \n",
      "                                                                 \n",
      " dense_1 (Dense)             (None, 84)                10164     \n",
      "                                                                 \n",
      " dense_2 (Dense)             (None, 10)                850       \n",
      "                                                                 \n",
      "=================================================================\n",
      "Total params: 30,496\n",
      "Trainable params: 30,496\n",
      "Non-trainable params: 0\n",
      "_________________________________________________________________\n"
     ]
    }
   ],
   "source": [
    "model.summary()"
   ]
  },
  {
   "cell_type": "code",
   "execution_count": 5,
   "metadata": {},
   "outputs": [
    {
     "name": "stdout",
     "output_type": "stream",
     "text": [
      "Epoch 1/100\n",
      "391/391 [==============================] - 3s 5ms/step - loss: 1.8037 - accuracy: 0.3333\n",
      "Epoch 2/100\n",
      "391/391 [==============================] - 2s 5ms/step - loss: 1.5235 - accuracy: 0.4478\n",
      "Epoch 3/100\n",
      "391/391 [==============================] - 2s 5ms/step - loss: 1.4313 - accuracy: 0.4844\n",
      "Epoch 4/100\n",
      "391/391 [==============================] - 2s 5ms/step - loss: 1.3753 - accuracy: 0.5052\n",
      "Epoch 5/100\n",
      "391/391 [==============================] - 2s 5ms/step - loss: 1.3273 - accuracy: 0.5250\n",
      "Epoch 6/100\n",
      "391/391 [==============================] - 2s 5ms/step - loss: 1.2920 - accuracy: 0.5382\n",
      "Epoch 7/100\n",
      "391/391 [==============================] - 2s 6ms/step - loss: 1.2548 - accuracy: 0.5530\n",
      "Epoch 8/100\n",
      "391/391 [==============================] - 2s 6ms/step - loss: 1.2253 - accuracy: 0.5646\n",
      "Epoch 9/100\n",
      "391/391 [==============================] - 2s 6ms/step - loss: 1.1973 - accuracy: 0.5765\n",
      "Epoch 10/100\n",
      "391/391 [==============================] - 3s 6ms/step - loss: 1.1828 - accuracy: 0.5803\n",
      "Epoch 11/100\n",
      "391/391 [==============================] - 3s 7ms/step - loss: 1.1579 - accuracy: 0.5906\n",
      "Epoch 12/100\n",
      "391/391 [==============================] - 3s 7ms/step - loss: 1.1429 - accuracy: 0.5976\n",
      "Epoch 13/100\n",
      "391/391 [==============================] - 3s 7ms/step - loss: 1.1189 - accuracy: 0.6052\n",
      "Epoch 14/100\n",
      "391/391 [==============================] - 3s 7ms/step - loss: 1.1037 - accuracy: 0.6109\n",
      "Epoch 15/100\n",
      "391/391 [==============================] - 2s 6ms/step - loss: 1.0840 - accuracy: 0.6151\n",
      "Epoch 16/100\n",
      "391/391 [==============================] - 2s 6ms/step - loss: 1.0705 - accuracy: 0.6226\n",
      "Epoch 17/100\n",
      "391/391 [==============================] - 2s 5ms/step - loss: 1.0582 - accuracy: 0.6266\n",
      "Epoch 18/100\n",
      "391/391 [==============================] - 2s 5ms/step - loss: 1.0445 - accuracy: 0.6326\n",
      "Epoch 19/100\n",
      "391/391 [==============================] - 2s 5ms/step - loss: 1.0330 - accuracy: 0.6382\n",
      "Epoch 20/100\n",
      "391/391 [==============================] - 2s 5ms/step - loss: 1.0134 - accuracy: 0.6444\n",
      "Epoch 21/100\n",
      "391/391 [==============================] - 2s 5ms/step - loss: 1.0033 - accuracy: 0.6494\n",
      "Epoch 22/100\n",
      "391/391 [==============================] - 2s 5ms/step - loss: 0.9953 - accuracy: 0.6502\n",
      "Epoch 23/100\n",
      "391/391 [==============================] - 2s 5ms/step - loss: 0.9821 - accuracy: 0.6572\n",
      "Epoch 24/100\n",
      "391/391 [==============================] - 2s 5ms/step - loss: 0.9761 - accuracy: 0.6571\n",
      "Epoch 25/100\n",
      "391/391 [==============================] - 2s 5ms/step - loss: 0.9621 - accuracy: 0.6632\n",
      "Epoch 26/100\n",
      "391/391 [==============================] - 2s 5ms/step - loss: 0.9543 - accuracy: 0.6653\n",
      "Epoch 27/100\n",
      "391/391 [==============================] - 2s 5ms/step - loss: 0.9444 - accuracy: 0.6694\n",
      "Epoch 28/100\n",
      "391/391 [==============================] - 2s 5ms/step - loss: 0.9356 - accuracy: 0.6724\n",
      "Epoch 29/100\n",
      "391/391 [==============================] - 2s 5ms/step - loss: 0.9259 - accuracy: 0.6729\n",
      "Epoch 30/100\n",
      "391/391 [==============================] - 2s 5ms/step - loss: 0.9146 - accuracy: 0.6789\n",
      "Epoch 31/100\n",
      "391/391 [==============================] - 2s 6ms/step - loss: 0.9127 - accuracy: 0.6786\n",
      "Epoch 32/100\n",
      "391/391 [==============================] - 2s 6ms/step - loss: 0.9054 - accuracy: 0.6837\n",
      "Epoch 33/100\n",
      "391/391 [==============================] - 2s 6ms/step - loss: 0.8949 - accuracy: 0.6859\n",
      "Epoch 34/100\n",
      "391/391 [==============================] - 2s 6ms/step - loss: 0.8826 - accuracy: 0.6905\n",
      "Epoch 35/100\n",
      "391/391 [==============================] - 2s 5ms/step - loss: 0.8786 - accuracy: 0.6918\n",
      "Epoch 36/100\n",
      "391/391 [==============================] - 2s 6ms/step - loss: 0.8716 - accuracy: 0.6936\n",
      "Epoch 37/100\n",
      "391/391 [==============================] - 2s 6ms/step - loss: 0.8696 - accuracy: 0.6942\n",
      "Epoch 38/100\n",
      "391/391 [==============================] - 2s 5ms/step - loss: 0.8626 - accuracy: 0.6970\n",
      "Epoch 39/100\n",
      "391/391 [==============================] - 2s 5ms/step - loss: 0.8487 - accuracy: 0.7017\n",
      "Epoch 40/100\n",
      "391/391 [==============================] - 2s 5ms/step - loss: 0.8445 - accuracy: 0.7025\n",
      "Epoch 41/100\n",
      "391/391 [==============================] - 2s 5ms/step - loss: 0.8342 - accuracy: 0.7059\n",
      "Epoch 42/100\n",
      "391/391 [==============================] - 2s 5ms/step - loss: 0.8374 - accuracy: 0.7050\n",
      "Epoch 43/100\n",
      "391/391 [==============================] - 2s 6ms/step - loss: 0.8253 - accuracy: 0.7101\n",
      "Epoch 44/100\n",
      "391/391 [==============================] - 2s 5ms/step - loss: 0.8194 - accuracy: 0.7129\n",
      "Epoch 45/100\n",
      "391/391 [==============================] - 2s 5ms/step - loss: 0.8181 - accuracy: 0.7116\n",
      "Epoch 46/100\n",
      "391/391 [==============================] - 2s 5ms/step - loss: 0.8119 - accuracy: 0.7147\n",
      "Epoch 47/100\n",
      "391/391 [==============================] - 2s 6ms/step - loss: 0.8065 - accuracy: 0.7153\n",
      "Epoch 48/100\n",
      "391/391 [==============================] - 2s 5ms/step - loss: 0.7997 - accuracy: 0.7183\n",
      "Epoch 49/100\n",
      "391/391 [==============================] - 2s 5ms/step - loss: 0.7875 - accuracy: 0.7248\n",
      "Epoch 50/100\n",
      "391/391 [==============================] - 2s 5ms/step - loss: 0.7871 - accuracy: 0.7235\n",
      "Epoch 51/100\n",
      "391/391 [==============================] - 2s 5ms/step - loss: 0.7839 - accuracy: 0.7231\n",
      "Epoch 52/100\n",
      "391/391 [==============================] - 2s 5ms/step - loss: 0.7756 - accuracy: 0.7248\n",
      "Epoch 53/100\n",
      "391/391 [==============================] - 2s 6ms/step - loss: 0.7738 - accuracy: 0.7270\n",
      "Epoch 54/100\n",
      "391/391 [==============================] - 2s 5ms/step - loss: 0.7662 - accuracy: 0.7312\n",
      "Epoch 55/100\n",
      "391/391 [==============================] - 2s 5ms/step - loss: 0.7587 - accuracy: 0.7338\n",
      "Epoch 56/100\n",
      "391/391 [==============================] - 2s 5ms/step - loss: 0.7619 - accuracy: 0.7303\n",
      "Epoch 57/100\n",
      "391/391 [==============================] - 2s 5ms/step - loss: 0.7553 - accuracy: 0.7343\n",
      "Epoch 58/100\n",
      "391/391 [==============================] - 2s 5ms/step - loss: 0.7504 - accuracy: 0.7347\n",
      "Epoch 59/100\n",
      "391/391 [==============================] - 2s 5ms/step - loss: 0.7423 - accuracy: 0.7388\n",
      "Epoch 60/100\n",
      "391/391 [==============================] - 2s 5ms/step - loss: 0.7418 - accuracy: 0.7403\n",
      "Epoch 61/100\n",
      "391/391 [==============================] - 2s 5ms/step - loss: 0.7366 - accuracy: 0.7402\n",
      "Epoch 62/100\n",
      "391/391 [==============================] - 2s 5ms/step - loss: 0.7357 - accuracy: 0.7403\n",
      "Epoch 63/100\n",
      "391/391 [==============================] - 2s 5ms/step - loss: 0.7272 - accuracy: 0.7433\n",
      "Epoch 64/100\n",
      "391/391 [==============================] - 2s 6ms/step - loss: 0.7280 - accuracy: 0.7441\n",
      "Epoch 65/100\n",
      "391/391 [==============================] - 2s 5ms/step - loss: 0.7212 - accuracy: 0.7465\n",
      "Epoch 66/100\n",
      "391/391 [==============================] - 2s 5ms/step - loss: 0.7159 - accuracy: 0.7466\n",
      "Epoch 67/100\n",
      "391/391 [==============================] - 2s 5ms/step - loss: 0.7110 - accuracy: 0.7488\n",
      "Epoch 68/100\n",
      "391/391 [==============================] - 2s 5ms/step - loss: 0.7140 - accuracy: 0.7479\n",
      "Epoch 69/100\n",
      "391/391 [==============================] - 2s 5ms/step - loss: 0.7080 - accuracy: 0.7492\n",
      "Epoch 70/100\n",
      "391/391 [==============================] - 2s 5ms/step - loss: 0.7024 - accuracy: 0.7511\n",
      "Epoch 71/100\n",
      "391/391 [==============================] - 2s 5ms/step - loss: 0.6991 - accuracy: 0.7527\n",
      "Epoch 72/100\n",
      "391/391 [==============================] - 2s 5ms/step - loss: 0.6957 - accuracy: 0.7548\n",
      "Epoch 73/100\n",
      "391/391 [==============================] - 2s 6ms/step - loss: 0.6914 - accuracy: 0.7565\n",
      "Epoch 74/100\n",
      "391/391 [==============================] - 2s 6ms/step - loss: 0.6884 - accuracy: 0.7560\n",
      "Epoch 75/100\n",
      "391/391 [==============================] - 2s 6ms/step - loss: 0.6853 - accuracy: 0.7584\n",
      "Epoch 76/100\n",
      "391/391 [==============================] - 2s 5ms/step - loss: 0.6762 - accuracy: 0.7604\n",
      "Epoch 77/100\n",
      "391/391 [==============================] - 2s 5ms/step - loss: 0.6822 - accuracy: 0.7580\n",
      "Epoch 78/100\n",
      "391/391 [==============================] - 2s 5ms/step - loss: 0.6679 - accuracy: 0.7626\n",
      "Epoch 79/100\n",
      "391/391 [==============================] - 2s 5ms/step - loss: 0.6718 - accuracy: 0.7612\n",
      "Epoch 80/100\n",
      "391/391 [==============================] - 2s 6ms/step - loss: 0.6698 - accuracy: 0.7637\n",
      "Epoch 81/100\n",
      "391/391 [==============================] - 2s 6ms/step - loss: 0.6740 - accuracy: 0.7600\n",
      "Epoch 82/100\n",
      "391/391 [==============================] - 2s 6ms/step - loss: 0.6693 - accuracy: 0.7620\n",
      "Epoch 83/100\n",
      "391/391 [==============================] - 2s 6ms/step - loss: 0.6636 - accuracy: 0.7642\n",
      "Epoch 84/100\n",
      "391/391 [==============================] - 2s 6ms/step - loss: 0.6610 - accuracy: 0.7657\n",
      "Epoch 85/100\n",
      "391/391 [==============================] - 2s 6ms/step - loss: 0.6602 - accuracy: 0.7653\n",
      "Epoch 86/100\n",
      "391/391 [==============================] - 2s 5ms/step - loss: 0.6562 - accuracy: 0.7670\n",
      "Epoch 87/100\n",
      "391/391 [==============================] - 2s 5ms/step - loss: 0.6498 - accuracy: 0.7685\n",
      "Epoch 88/100\n",
      "391/391 [==============================] - 2s 5ms/step - loss: 0.6521 - accuracy: 0.7673\n",
      "Epoch 89/100\n",
      "391/391 [==============================] - 2s 5ms/step - loss: 0.6496 - accuracy: 0.7687\n",
      "Epoch 90/100\n",
      "391/391 [==============================] - 2s 5ms/step - loss: 0.6463 - accuracy: 0.7699\n",
      "Epoch 91/100\n",
      "391/391 [==============================] - 2s 6ms/step - loss: 0.6473 - accuracy: 0.7679\n",
      "Epoch 92/100\n",
      "391/391 [==============================] - 2s 5ms/step - loss: 0.6415 - accuracy: 0.7702\n",
      "Epoch 93/100\n",
      "391/391 [==============================] - 2s 6ms/step - loss: 0.6355 - accuracy: 0.7732\n",
      "Epoch 94/100\n",
      "391/391 [==============================] - 2s 6ms/step - loss: 0.6353 - accuracy: 0.7750\n",
      "Epoch 95/100\n",
      "391/391 [==============================] - 2s 6ms/step - loss: 0.6347 - accuracy: 0.7737\n",
      "Epoch 96/100\n",
      "391/391 [==============================] - 2s 6ms/step - loss: 0.6280 - accuracy: 0.7762\n",
      "Epoch 97/100\n",
      "391/391 [==============================] - 2s 6ms/step - loss: 0.6204 - accuracy: 0.7792\n",
      "Epoch 98/100\n",
      "391/391 [==============================] - 2s 6ms/step - loss: 0.6244 - accuracy: 0.7777\n",
      "Epoch 99/100\n",
      "391/391 [==============================] - 2s 6ms/step - loss: 0.6225 - accuracy: 0.7787\n",
      "Epoch 100/100\n",
      "391/391 [==============================] - 2s 6ms/step - loss: 0.6268 - accuracy: 0.7774\n"
     ]
    },
    {
     "data": {
      "text/plain": [
       "<keras.callbacks.History at 0x155618ca980>"
      ]
     },
     "execution_count": 5,
     "metadata": {},
     "output_type": "execute_result"
    }
   ],
   "source": [
    "import os\n",
    "os.environ[\"CUDA_VISIBLE_DEVICES\"] = \"0\"\n",
    "model.fit(inVar, tarVar, epochs = 100, batch_size=128)"
   ]
  },
  {
   "cell_type": "code",
   "execution_count": 6,
   "metadata": {},
   "outputs": [
    {
     "name": "stdout",
     "output_type": "stream",
     "text": [
      "1563/1563 [==============================] - 4s 2ms/step - loss: 0.6118 - accuracy: 0.7812\n"
     ]
    },
    {
     "data": {
      "text/plain": [
       "[0.6117830276489258, 0.781220018863678]"
      ]
     },
     "execution_count": 6,
     "metadata": {},
     "output_type": "execute_result"
    }
   ],
   "source": [
    "model.evaluate(inVar, tarVar)"
   ]
  },
  {
   "cell_type": "code",
   "execution_count": 10,
   "metadata": {},
   "outputs": [
    {
     "name": "stdout",
     "output_type": "stream",
     "text": [
      "1/1 [==============================] - 0s 165ms/step\n",
      "[6 9 9 4 9 1 2 7 8 4]\n"
     ]
    }
   ],
   "source": [
    "import numpy as np\n",
    "\n",
    "predictions = model.predict(inVar[:10])  # 상위 5개의 예측 결과를 얻습니다.\n",
    "\n",
    "# 각 예측 결과를 정수 레이블로 변환합니다.\n",
    "predicted_labels = np.argmax(predictions, axis=1)\n",
    "\n",
    "print(predicted_labels)"
   ]
  },
  {
   "cell_type": "code",
   "execution_count": 13,
   "metadata": {},
   "outputs": [
    {
     "name": "stdout",
     "output_type": "stream",
     "text": [
      "[6 9 9 4 1 1 2 7 8 3]\n"
     ]
    }
   ],
   "source": [
    "# 예측된 타겟 레이블을 정수로 변환합니다.\n",
    "true_labels = np.argmax(tarVar[:10], axis=1)\n",
    "\n",
    "print(true_labels)"
   ]
  },
  {
   "cell_type": "code",
   "execution_count": null,
   "metadata": {},
   "outputs": [],
   "source": []
  }
 ],
 "metadata": {
  "kernelspec": {
   "display_name": "Python 3",
   "language": "python",
   "name": "python3"
  },
  "language_info": {
   "codemirror_mode": {
    "name": "ipython",
    "version": 3
   },
   "file_extension": ".py",
   "mimetype": "text/x-python",
   "name": "python",
   "nbconvert_exporter": "python",
   "pygments_lexer": "ipython3",
   "version": "3.10.11"
  }
 },
 "nbformat": 4,
 "nbformat_minor": 2
}
