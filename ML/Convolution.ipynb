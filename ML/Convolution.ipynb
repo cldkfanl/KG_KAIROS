{
 "cells": [
  {
   "cell_type": "code",
   "execution_count": 1,
   "metadata": {},
   "outputs": [
    {
     "name": "stdout",
     "output_type": "stream",
     "text": [
      "WARNING:tensorflow:From c:\\Users\\user\\AppData\\Local\\Programs\\Python\\Python310\\lib\\site-packages\\keras\\src\\losses.py:2976: The name tf.losses.sparse_softmax_cross_entropy is deprecated. Please use tf.compat.v1.losses.sparse_softmax_cross_entropy instead.\n",
      "\n"
     ]
    }
   ],
   "source": [
    "import tensorflow as tf\n",
    "import pandas as pd"
   ]
  },
  {
   "cell_type": "code",
   "execution_count": 2,
   "metadata": {},
   "outputs": [
    {
     "name": "stdout",
     "output_type": "stream",
     "text": [
      "(60000, 28, 28) (60000,)\n"
     ]
    }
   ],
   "source": [
    "# 데이터 준비\n",
    "(inVar, tarVar), _ = tf.keras.datasets.mnist.load_data()\n",
    "print(inVar.shape, tarVar.shape)"
   ]
  },
  {
   "cell_type": "code",
   "execution_count": 3,
   "metadata": {},
   "outputs": [
    {
     "name": "stdout",
     "output_type": "stream",
     "text": [
      "(60000, 28, 28, 1) (60000, 10)\n"
     ]
    }
   ],
   "source": [
    "inVar = inVar.reshape(60000, 28, 28, 1)\n",
    "tarVar = pd.get_dummies(tarVar)\n",
    "print(inVar.shape, tarVar.shape)"
   ]
  },
  {
   "cell_type": "code",
   "execution_count": 5,
   "metadata": {},
   "outputs": [],
   "source": [
    "# Hidden Layer 4개, 3번째에 Flatten, 노드 수 3,6,84,7\n",
    "X = tf.keras.layers.Input(shape = (28, 28, 1))\n",
    "H = tf.keras.layers.Conv2D(3, kernel_size = 6, activation = 'swish')(X)\n",
    "H = tf.keras.layers.Conv2D(6, kernel_size = 6, activation = 'swish')(H)\n",
    "H = tf.keras.layers.Flatten()(H)\n",
    "H = tf.keras.layers.Dense(84, activation = 'swish')(H)\n",
    "Y = tf.keras.layers.Dense(10, activation = 'softmax')(H)\n",
    "model = tf.keras.models.Model(X, Y)\n",
    "model.compile(loss = 'categorical_crossentropy', metrics = 'accuracy')"
   ]
  },
  {
   "cell_type": "markdown",
   "metadata": {},
   "source": [
    "1. Conv2D : 2D 합성곱\n",
    "* 2D RGB 이미지 평면에서 작동함\n",
    "* 필터 크기는 주로 2x2, 3x3\n",
    "* 예시: 커널 크기가 3x3인 Conv2D를 사용하여 이미지 특징을 추출함\n",
    "\n",
    "2. Conv3D : 3D 합성곱\n",
    "* 3D RGB 이미지 평면/깊이 또는 동영상 프레임에서 작동함\n",
    "* 필터 크기는 주로 3x3x3 또는 5x5x5\n",
    "* 예시: 커널 크기가 3x3x3인 Conv3D를 사용하여 동영상 프레임의 시공간적 특징을 추출함"
   ]
  },
  {
   "cell_type": "code",
   "execution_count": 6,
   "metadata": {},
   "outputs": [
    {
     "name": "stdout",
     "output_type": "stream",
     "text": [
      "Epoch 1/30\n",
      "WARNING:tensorflow:From c:\\Users\\user\\AppData\\Local\\Programs\\Python\\Python310\\lib\\site-packages\\keras\\src\\utils\\tf_utils.py:492: The name tf.ragged.RaggedTensorValue is deprecated. Please use tf.compat.v1.ragged.RaggedTensorValue instead.\n",
      "\n",
      "WARNING:tensorflow:From c:\\Users\\user\\AppData\\Local\\Programs\\Python\\Python310\\lib\\site-packages\\keras\\src\\engine\\base_layer_utils.py:384: The name tf.executing_eagerly_outside_functions is deprecated. Please use tf.compat.v1.executing_eagerly_outside_functions instead.\n",
      "\n",
      "1875/1875 [==============================] - 11s 6ms/step - loss: 0.5449 - accuracy: 0.9197\n",
      "Epoch 2/30\n",
      "1875/1875 [==============================] - 10s 5ms/step - loss: 0.1034 - accuracy: 0.9721\n",
      "Epoch 3/30\n",
      "1875/1875 [==============================] - 10s 5ms/step - loss: 0.0737 - accuracy: 0.9803\n",
      "Epoch 4/30\n",
      "1875/1875 [==============================] - 10s 5ms/step - loss: 0.0592 - accuracy: 0.9842\n",
      "Epoch 5/30\n",
      "1875/1875 [==============================] - 10s 5ms/step - loss: 0.0469 - accuracy: 0.9883\n",
      "Epoch 6/30\n",
      "1875/1875 [==============================] - 10s 5ms/step - loss: 0.0394 - accuracy: 0.9894\n",
      "Epoch 7/30\n",
      "1875/1875 [==============================] - 10s 5ms/step - loss: 0.0339 - accuracy: 0.9913\n",
      "Epoch 8/30\n",
      "1875/1875 [==============================] - 10s 5ms/step - loss: 0.0331 - accuracy: 0.9919\n",
      "Epoch 9/30\n",
      "1875/1875 [==============================] - 10s 5ms/step - loss: 0.0293 - accuracy: 0.9934\n",
      "Epoch 10/30\n",
      "1875/1875 [==============================] - 10s 5ms/step - loss: 0.0291 - accuracy: 0.9938\n",
      "Epoch 11/30\n",
      "1875/1875 [==============================] - 11s 6ms/step - loss: 0.0278 - accuracy: 0.9942\n",
      "Epoch 12/30\n",
      "1875/1875 [==============================] - 10s 5ms/step - loss: 0.0285 - accuracy: 0.9949\n",
      "Epoch 13/30\n",
      "1875/1875 [==============================] - 10s 5ms/step - loss: 0.0261 - accuracy: 0.9951\n",
      "Epoch 14/30\n",
      "1875/1875 [==============================] - 11s 6ms/step - loss: 0.0245 - accuracy: 0.9957\n",
      "Epoch 15/30\n",
      "1875/1875 [==============================] - 10s 6ms/step - loss: 0.0251 - accuracy: 0.9955\n",
      "Epoch 16/30\n",
      "1875/1875 [==============================] - 10s 5ms/step - loss: 0.0270 - accuracy: 0.9959\n",
      "Epoch 17/30\n",
      "1875/1875 [==============================] - 10s 5ms/step - loss: 0.0204 - accuracy: 0.9967\n",
      "Epoch 18/30\n",
      "1875/1875 [==============================] - 16s 8ms/step - loss: 0.0229 - accuracy: 0.9962\n",
      "Epoch 19/30\n",
      "1875/1875 [==============================] - 12s 6ms/step - loss: 0.0267 - accuracy: 0.9961\n",
      "Epoch 20/30\n",
      "1875/1875 [==============================] - 16s 9ms/step - loss: 0.0217 - accuracy: 0.9969\n",
      "Epoch 21/30\n",
      "1875/1875 [==============================] - 13s 7ms/step - loss: 0.0258 - accuracy: 0.9966\n",
      "Epoch 22/30\n",
      "1875/1875 [==============================] - 11s 6ms/step - loss: 0.0262 - accuracy: 0.9970\n",
      "Epoch 23/30\n",
      "1875/1875 [==============================] - 10s 5ms/step - loss: 0.0220 - accuracy: 0.9972\n",
      "Epoch 24/30\n",
      "1875/1875 [==============================] - 10s 5ms/step - loss: 0.0190 - accuracy: 0.9977\n",
      "Epoch 25/30\n",
      "1875/1875 [==============================] - 10s 5ms/step - loss: 0.0181 - accuracy: 0.9976\n",
      "Epoch 26/30\n",
      "1875/1875 [==============================] - 10s 5ms/step - loss: 0.0246 - accuracy: 0.9976\n",
      "Epoch 27/30\n",
      "1875/1875 [==============================] - 10s 5ms/step - loss: 0.0235 - accuracy: 0.9977\n",
      "Epoch 28/30\n",
      "1875/1875 [==============================] - 10s 5ms/step - loss: 0.0179 - accuracy: 0.9980\n",
      "Epoch 29/30\n",
      "1875/1875 [==============================] - 10s 5ms/step - loss: 0.0237 - accuracy: 0.9974\n",
      "Epoch 30/30\n",
      "1875/1875 [==============================] - 10s 5ms/step - loss: 0.0172 - accuracy: 0.9982\n"
     ]
    },
    {
     "data": {
      "text/plain": [
       "<keras.src.callbacks.History at 0x26b97a84f70>"
      ]
     },
     "execution_count": 6,
     "metadata": {},
     "output_type": "execute_result"
    }
   ],
   "source": [
    "model.fit(inVar, tarVar, epochs = 30)"
   ]
  },
  {
   "cell_type": "code",
   "execution_count": null,
   "metadata": {},
   "outputs": [],
   "source": []
  }
 ],
 "metadata": {
  "kernelspec": {
   "display_name": "Python 3",
   "language": "python",
   "name": "python3"
  },
  "language_info": {
   "codemirror_mode": {
    "name": "ipython",
    "version": 3
   },
   "file_extension": ".py",
   "mimetype": "text/x-python",
   "name": "python",
   "nbconvert_exporter": "python",
   "pygments_lexer": "ipython3",
   "version": "3.10.11"
  }
 },
 "nbformat": 4,
 "nbformat_minor": 2
}
