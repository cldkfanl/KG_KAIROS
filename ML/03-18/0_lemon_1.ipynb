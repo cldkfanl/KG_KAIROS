{
 "cells": [
  {
   "cell_type": "code",
   "execution_count": 6,
   "metadata": {},
   "outputs": [
    {
     "data": {
      "text/html": [
       "<div>\n",
       "<style scoped>\n",
       "    .dataframe tbody tr th:only-of-type {\n",
       "        vertical-align: middle;\n",
       "    }\n",
       "\n",
       "    .dataframe tbody tr th {\n",
       "        vertical-align: top;\n",
       "    }\n",
       "\n",
       "    .dataframe thead th {\n",
       "        text-align: right;\n",
       "    }\n",
       "</style>\n",
       "<table border=\"1\" class=\"dataframe\">\n",
       "  <thead>\n",
       "    <tr style=\"text-align: right;\">\n",
       "      <th></th>\n",
       "      <th>온도</th>\n",
       "      <th>판매량</th>\n",
       "    </tr>\n",
       "  </thead>\n",
       "  <tbody>\n",
       "    <tr>\n",
       "      <th>0</th>\n",
       "      <td>20</td>\n",
       "      <td>40</td>\n",
       "    </tr>\n",
       "    <tr>\n",
       "      <th>1</th>\n",
       "      <td>21</td>\n",
       "      <td>42</td>\n",
       "    </tr>\n",
       "    <tr>\n",
       "      <th>2</th>\n",
       "      <td>22</td>\n",
       "      <td>44</td>\n",
       "    </tr>\n",
       "    <tr>\n",
       "      <th>3</th>\n",
       "      <td>23</td>\n",
       "      <td>46</td>\n",
       "    </tr>\n",
       "    <tr>\n",
       "      <th>4</th>\n",
       "      <td>24</td>\n",
       "      <td>48</td>\n",
       "    </tr>\n",
       "  </tbody>\n",
       "</table>\n",
       "</div>"
      ],
      "text/plain": [
       "   온도  판매량\n",
       "0  20   40\n",
       "1  21   42\n",
       "2  22   44\n",
       "3  23   46\n",
       "4  24   48"
      ]
     },
     "execution_count": 6,
     "metadata": {},
     "output_type": "execute_result"
    }
   ],
   "source": [
    "import tensorflow as tf\n",
    "import pandas as pd\n",
    "\n",
    "f = 'lemonade.csv'\n",
    "df = pd.read_csv(f)\n",
    "df.head()"
   ]
  },
  {
   "cell_type": "code",
   "execution_count": 7,
   "metadata": {},
   "outputs": [
    {
     "name": "stdout",
     "output_type": "stream",
     "text": [
      "(6, 1) (6, 1)\n"
     ]
    },
    {
     "data": {
      "text/plain": [
       "(6, 1)"
      ]
     },
     "execution_count": 7,
     "metadata": {},
     "output_type": "execute_result"
    }
   ],
   "source": [
    "inVar = df[['온도']]\n",
    "tarVar = df[['판매량']]\n",
    "print(inVar.shape, tarVar.shape)\n",
    "inVar.shape\n"
   ]
  },
  {
   "cell_type": "code",
   "execution_count": 8,
   "metadata": {},
   "outputs": [],
   "source": [
    "X = tf.keras.layers.Input(shape=[1])\n",
    "Y = tf.keras.layers.Dense(1)(X)\n",
    "model = tf.keras.models.Model(X, Y)\n",
    "model.compile(loss = \"mse\")"
   ]
  },
  {
   "cell_type": "code",
   "execution_count": 9,
   "metadata": {},
   "outputs": [
    {
     "name": "stdout",
     "output_type": "stream",
     "text": [
      "Epoch 1/100\n",
      "1/1 [==============================] - 0s 151ms/step - loss: 377.6169\n",
      "Epoch 2/100\n",
      "1/1 [==============================] - 0s 0s/step - loss: 374.7267\n",
      "Epoch 3/100\n",
      "1/1 [==============================] - 0s 0s/step - loss: 372.6406\n",
      "Epoch 4/100\n",
      "1/1 [==============================] - 0s 12ms/step - loss: 370.9003\n",
      "Epoch 5/100\n",
      "1/1 [==============================] - 0s 1ms/step - loss: 369.3601\n",
      "Epoch 6/100\n",
      "1/1 [==============================] - 0s 0s/step - loss: 367.9524\n",
      "Epoch 7/100\n",
      "1/1 [==============================] - 0s 0s/step - loss: 366.6396\n",
      "Epoch 8/100\n",
      "1/1 [==============================] - 0s 14ms/step - loss: 365.3982\n",
      "Epoch 9/100\n",
      "1/1 [==============================] - 0s 5ms/step - loss: 364.2126\n",
      "Epoch 10/100\n",
      "1/1 [==============================] - 0s 0s/step - loss: 363.0717\n",
      "Epoch 11/100\n",
      "1/1 [==============================] - 0s 10ms/step - loss: 361.9673\n",
      "Epoch 12/100\n",
      "1/1 [==============================] - 0s 0s/step - loss: 360.8934\n",
      "Epoch 13/100\n",
      "1/1 [==============================] - 0s 0s/step - loss: 359.8451\n",
      "Epoch 14/100\n",
      "1/1 [==============================] - 0s 17ms/step - loss: 358.8186\n",
      "Epoch 15/100\n",
      "1/1 [==============================] - 0s 0s/step - loss: 357.8109\n",
      "Epoch 16/100\n",
      "1/1 [==============================] - 0s 0s/step - loss: 356.8194\n",
      "Epoch 17/100\n",
      "1/1 [==============================] - 0s 0s/step - loss: 355.8421\n",
      "Epoch 18/100\n",
      "1/1 [==============================] - 0s 15ms/step - loss: 354.8772\n",
      "Epoch 19/100\n",
      "1/1 [==============================] - 0s 0s/step - loss: 353.9234\n",
      "Epoch 20/100\n",
      "1/1 [==============================] - 0s 0s/step - loss: 352.9792\n",
      "Epoch 21/100\n",
      "1/1 [==============================] - 0s 0s/step - loss: 352.0438\n",
      "Epoch 22/100\n",
      "1/1 [==============================] - 0s 0s/step - loss: 351.1161\n",
      "Epoch 23/100\n",
      "1/1 [==============================] - 0s 2ms/step - loss: 350.1954\n",
      "Epoch 24/100\n",
      "1/1 [==============================] - 0s 0s/step - loss: 349.2811\n",
      "Epoch 25/100\n",
      "1/1 [==============================] - 0s 0s/step - loss: 348.3726\n",
      "Epoch 26/100\n",
      "1/1 [==============================] - 0s 1ms/step - loss: 347.4691\n",
      "Epoch 27/100\n",
      "1/1 [==============================] - 0s 0s/step - loss: 346.5706\n",
      "Epoch 28/100\n",
      "1/1 [==============================] - 0s 0s/step - loss: 345.6762\n",
      "Epoch 29/100\n",
      "1/1 [==============================] - 0s 16ms/step - loss: 344.7859\n",
      "Epoch 30/100\n",
      "1/1 [==============================] - 0s 2ms/step - loss: 343.8992\n",
      "Epoch 31/100\n",
      "1/1 [==============================] - 0s 0s/step - loss: 343.0160\n",
      "Epoch 32/100\n",
      "1/1 [==============================] - 0s 0s/step - loss: 342.1359\n",
      "Epoch 33/100\n",
      "1/1 [==============================] - 0s 14ms/step - loss: 341.2588\n",
      "Epoch 34/100\n",
      "1/1 [==============================] - 0s 0s/step - loss: 340.3844\n",
      "Epoch 35/100\n",
      "1/1 [==============================] - 0s 0s/step - loss: 339.5126\n",
      "Epoch 36/100\n",
      "1/1 [==============================] - 0s 0s/step - loss: 338.6431\n",
      "Epoch 37/100\n",
      "1/1 [==============================] - 0s 16ms/step - loss: 337.7761\n",
      "Epoch 38/100\n",
      "1/1 [==============================] - 0s 0s/step - loss: 336.9111\n",
      "Epoch 39/100\n",
      "1/1 [==============================] - 0s 0s/step - loss: 336.0482\n",
      "Epoch 40/100\n",
      "1/1 [==============================] - 0s 0s/step - loss: 335.1873\n",
      "Epoch 41/100\n",
      "1/1 [==============================] - 0s 2ms/step - loss: 334.3281\n",
      "Epoch 42/100\n",
      "1/1 [==============================] - 0s 0s/step - loss: 333.4708\n",
      "Epoch 43/100\n",
      "1/1 [==============================] - 0s 0s/step - loss: 332.6152\n",
      "Epoch 44/100\n",
      "1/1 [==============================] - 0s 17ms/step - loss: 331.7612\n",
      "Epoch 45/100\n",
      "1/1 [==============================] - 0s 0s/step - loss: 330.9088\n",
      "Epoch 46/100\n",
      "1/1 [==============================] - 0s 0s/step - loss: 330.0581\n",
      "Epoch 47/100\n",
      "1/1 [==============================] - 0s 14ms/step - loss: 329.2088\n",
      "Epoch 48/100\n",
      "1/1 [==============================] - 0s 0s/step - loss: 328.3609\n",
      "Epoch 49/100\n",
      "1/1 [==============================] - 0s 0s/step - loss: 327.5145\n",
      "Epoch 50/100\n",
      "1/1 [==============================] - 0s 0s/step - loss: 326.6695\n",
      "Epoch 51/100\n",
      "1/1 [==============================] - 0s 0s/step - loss: 325.8259\n",
      "Epoch 52/100\n",
      "1/1 [==============================] - 0s 4ms/step - loss: 324.9835\n",
      "Epoch 53/100\n",
      "1/1 [==============================] - 0s 0s/step - loss: 324.1426\n",
      "Epoch 54/100\n",
      "1/1 [==============================] - 0s 0s/step - loss: 323.3028\n",
      "Epoch 55/100\n",
      "1/1 [==============================] - 0s 13ms/step - loss: 322.4644\n",
      "Epoch 56/100\n",
      "1/1 [==============================] - 0s 0s/step - loss: 321.6271\n",
      "Epoch 57/100\n",
      "1/1 [==============================] - 0s 0s/step - loss: 320.7912\n",
      "Epoch 58/100\n",
      "1/1 [==============================] - 0s 0s/step - loss: 319.9564\n",
      "Epoch 59/100\n",
      "1/1 [==============================] - 0s 17ms/step - loss: 319.1229\n",
      "Epoch 60/100\n",
      "1/1 [==============================] - 0s 0s/step - loss: 318.2905\n",
      "Epoch 61/100\n",
      "1/1 [==============================] - 0s 0s/step - loss: 317.4593\n",
      "Epoch 62/100\n",
      "1/1 [==============================] - 0s 16ms/step - loss: 316.6294\n",
      "Epoch 63/100\n",
      "1/1 [==============================] - 0s 0s/step - loss: 315.8005\n",
      "Epoch 64/100\n",
      "1/1 [==============================] - 0s 0s/step - loss: 314.9729\n",
      "Epoch 65/100\n",
      "1/1 [==============================] - 0s 0s/step - loss: 314.1464\n",
      "Epoch 66/100\n",
      "1/1 [==============================] - 0s 2ms/step - loss: 313.3210\n",
      "Epoch 67/100\n",
      "1/1 [==============================] - 0s 0s/step - loss: 312.4969\n",
      "Epoch 68/100\n",
      "1/1 [==============================] - 0s 0s/step - loss: 311.6738\n",
      "Epoch 69/100\n",
      "1/1 [==============================] - 0s 16ms/step - loss: 310.8519\n",
      "Epoch 70/100\n",
      "1/1 [==============================] - 0s 1ms/step - loss: 310.0310\n",
      "Epoch 71/100\n",
      "1/1 [==============================] - 0s 0s/step - loss: 309.2114\n",
      "Epoch 72/100\n",
      "1/1 [==============================] - 0s 15ms/step - loss: 308.3929\n",
      "Epoch 73/100\n",
      "1/1 [==============================] - 0s 3ms/step - loss: 307.5755\n",
      "Epoch 74/100\n",
      "1/1 [==============================] - 0s 0s/step - loss: 306.7591\n",
      "Epoch 75/100\n",
      "1/1 [==============================] - 0s 10ms/step - loss: 305.9439\n",
      "Epoch 76/100\n",
      "1/1 [==============================] - 0s 0s/step - loss: 305.1299\n",
      "Epoch 77/100\n",
      "1/1 [==============================] - 0s 0s/step - loss: 304.3170\n",
      "Epoch 78/100\n",
      "1/1 [==============================] - 0s 0s/step - loss: 303.5052\n",
      "Epoch 79/100\n",
      "1/1 [==============================] - 0s 16ms/step - loss: 302.6945\n",
      "Epoch 80/100\n",
      "1/1 [==============================] - 0s 0s/step - loss: 301.8849\n",
      "Epoch 81/100\n",
      "1/1 [==============================] - 0s 0s/step - loss: 301.0764\n",
      "Epoch 82/100\n",
      "1/1 [==============================] - 0s 0s/step - loss: 300.2690\n",
      "Epoch 83/100\n",
      "1/1 [==============================] - 0s 4ms/step - loss: 299.4627\n",
      "Epoch 84/100\n",
      "1/1 [==============================] - 0s 0s/step - loss: 298.6575\n",
      "Epoch 85/100\n",
      "1/1 [==============================] - 0s 17ms/step - loss: 297.8534\n",
      "Epoch 86/100\n",
      "1/1 [==============================] - 0s 0s/step - loss: 297.0505\n",
      "Epoch 87/100\n",
      "1/1 [==============================] - 0s 16ms/step - loss: 296.2486\n",
      "Epoch 88/100\n",
      "1/1 [==============================] - 0s 0s/step - loss: 295.4477\n",
      "Epoch 89/100\n",
      "1/1 [==============================] - 0s 0s/step - loss: 294.6481\n",
      "Epoch 90/100\n",
      "1/1 [==============================] - 0s 4ms/step - loss: 293.8496\n",
      "Epoch 91/100\n",
      "1/1 [==============================] - 0s 5ms/step - loss: 293.0521\n",
      "Epoch 92/100\n",
      "1/1 [==============================] - 0s 0s/step - loss: 292.2557\n",
      "Epoch 93/100\n",
      "1/1 [==============================] - 0s 12ms/step - loss: 291.4604\n",
      "Epoch 94/100\n",
      "1/1 [==============================] - 0s 0s/step - loss: 290.6663\n",
      "Epoch 95/100\n",
      "1/1 [==============================] - 0s 17ms/step - loss: 289.8732\n",
      "Epoch 96/100\n",
      "1/1 [==============================] - 0s 0s/step - loss: 289.0812\n",
      "Epoch 97/100\n",
      "1/1 [==============================] - 0s 19ms/step - loss: 288.2904\n",
      "Epoch 98/100\n",
      "1/1 [==============================] - 0s 0s/step - loss: 287.5005\n",
      "Epoch 99/100\n",
      "1/1 [==============================] - 0s 12ms/step - loss: 286.7119\n",
      "Epoch 100/100\n",
      "1/1 [==============================] - 0s 0s/step - loss: 285.9243\n"
     ]
    },
    {
     "data": {
      "text/plain": [
       "<keras.src.callbacks.History at 0x206bfc0cf40>"
      ]
     },
     "execution_count": 9,
     "metadata": {},
     "output_type": "execute_result"
    }
   ],
   "source": [
    "model.fit(inVar, tarVar, epochs = 100)"
   ]
  },
  {
   "cell_type": "code",
   "execution_count": 10,
   "metadata": {},
   "outputs": [
    {
     "name": "stdout",
     "output_type": "stream",
     "text": [
      "1/1 [==============================] - 0s 31ms/step\n",
      "1/1 [==============================] - 0s 41ms/step\n"
     ]
    },
    {
     "data": {
      "text/plain": [
       "array([[18.811377]], dtype=float32)"
      ]
     },
     "execution_count": 10,
     "metadata": {},
     "output_type": "execute_result"
    }
   ],
   "source": [
    "import numpy as np\n",
    "model.predict(inVar)\n",
    "model.predict([[15]])"
   ]
  },
  {
   "cell_type": "code",
   "execution_count": 11,
   "metadata": {},
   "outputs": [
    {
     "data": {
      "text/plain": [
       "[array([[1.2468871]], dtype=float32), array([0.10807045], dtype=float32)]"
      ]
     },
     "execution_count": 11,
     "metadata": {},
     "output_type": "execute_result"
    }
   ],
   "source": [
    "model.get_weights()"
   ]
  },
  {
   "cell_type": "code",
   "execution_count": null,
   "metadata": {},
   "outputs": [],
   "source": []
  }
 ],
 "metadata": {
  "kernelspec": {
   "display_name": "Python 3",
   "language": "python",
   "name": "python3"
  },
  "language_info": {
   "codemirror_mode": {
    "name": "ipython",
    "version": 3
   },
   "file_extension": ".py",
   "mimetype": "text/x-python",
   "name": "python",
   "nbconvert_exporter": "python",
   "pygments_lexer": "ipython3",
   "version": "3.10.11"
  }
 },
 "nbformat": 4,
 "nbformat_minor": 2
}
